{
 "cells": [
  {
   "cell_type": "markdown",
   "id": "a65105eb",
   "metadata": {},
   "source": [
    "# Item(Clothes) return prediction\n",
    "\n",
    "### Problem Statement:- \n",
    "- Customers send back a substantial part of the products that they purchase online. Return shipping is expensive for online platforms and return orders are said to reach 50% for certain industries and products. Nevertheless, free or inexpensive return shipping has become a customer expectation and de-facto standard in the fierce online competition on clothing, but shops have indirect ways to influence customer purchase behavior. For purchases where return seems likely, a shop could, for example, restrict payment options or display additional marketing communication.\n",
    "\n",
    "- Classification problem(Binary 0 or 1)\n",
    "- Need to predict weather the item will be returned by the user or not.\n",
    "\n"
   ]
  },
  {
   "cell_type": "code",
   "execution_count": 1,
   "id": "c5f8f342",
   "metadata": {},
   "outputs": [],
   "source": [
    "#Importing all the important libraries.\n",
    "import numpy as np\n",
    "import pandas as pd\n",
    "import matplotlib.pyplot as plt\n",
    "import seaborn as sns\n",
    "\n",
    "\n",
    "from scipy import stats\n",
    "\n",
    "#Importing RareLabelEncoder from feature_engine for encoding\n",
    "from feature_engine.encoding import RareLabelEncoder\n",
    "\n",
    "#Importing OutlierTrimmer from feature_enine.outliers for outiers\n",
    "from feature_engine.outliers import OutlierTrimmer\n",
    "\n",
    "# Importing Extratreesclassifier from sklearn.ensemble and\n",
    "#mutual_info_classif from sklearn.feature_selection for 'feature selection'\n",
    "from sklearn.ensemble import ExtraTreesClassifier\n",
    "from sklearn.feature_selection import mutual_info_classif\n",
    "\n",
    "# Importing train_test_split to split the data into traning and testing.\n",
    "from sklearn.model_selection import train_test_split\n",
    "\n",
    "#Importing RandomForestClassifier from sklearn.ensemble to make a classifier model.\n",
    "from sklearn.ensemble import RandomForestClassifier\n",
    "\n",
    "#Importing confusion_matrix, f1_score, accuracy_score from sklearn.metrics to check model accuracy.\n",
    "from sklearn.metrics import confusion_matrix, f1_score, accuracy_score\n"
   ]
  },
  {
   "cell_type": "code",
   "execution_count": 2,
   "id": "567f6682",
   "metadata": {},
   "outputs": [],
   "source": [
    "#Importing the traning dataset\n",
    "df = pd.read_csv(\"TrainingData_V1.csv\")"
   ]
  },
  {
   "cell_type": "code",
   "execution_count": 3,
   "id": "be0972e5",
   "metadata": {},
   "outputs": [
    {
     "data": {
      "text/html": [
       "<div>\n",
       "<style scoped>\n",
       "    .dataframe tbody tr th:only-of-type {\n",
       "        vertical-align: middle;\n",
       "    }\n",
       "\n",
       "    .dataframe tbody tr th {\n",
       "        vertical-align: top;\n",
       "    }\n",
       "\n",
       "    .dataframe thead th {\n",
       "        text-align: right;\n",
       "    }\n",
       "</style>\n",
       "<table border=\"1\" class=\"dataframe\">\n",
       "  <thead>\n",
       "    <tr style=\"text-align: right;\">\n",
       "      <th></th>\n",
       "      <th>order_item_id</th>\n",
       "      <th>order_date</th>\n",
       "      <th>delivery_date</th>\n",
       "      <th>item_id</th>\n",
       "      <th>item_size</th>\n",
       "      <th>item_color</th>\n",
       "      <th>brand_id</th>\n",
       "      <th>item_price</th>\n",
       "      <th>user_id</th>\n",
       "      <th>user_title</th>\n",
       "      <th>user_dob</th>\n",
       "      <th>user_state</th>\n",
       "      <th>user_reg_date</th>\n",
       "      <th>return</th>\n",
       "    </tr>\n",
       "  </thead>\n",
       "  <tbody>\n",
       "    <tr>\n",
       "      <th>0</th>\n",
       "      <td>1</td>\n",
       "      <td>22-06-2016</td>\n",
       "      <td>27-06-2016</td>\n",
       "      <td>643</td>\n",
       "      <td>38</td>\n",
       "      <td>navy</td>\n",
       "      <td>30</td>\n",
       "      <td>49.9</td>\n",
       "      <td>30822</td>\n",
       "      <td>Mrs</td>\n",
       "      <td>17-04-1969</td>\n",
       "      <td>1013</td>\n",
       "      <td>23-06-2016</td>\n",
       "      <td>0</td>\n",
       "    </tr>\n",
       "    <tr>\n",
       "      <th>1</th>\n",
       "      <td>10</td>\n",
       "      <td>22-06-2016</td>\n",
       "      <td>27-06-2016</td>\n",
       "      <td>195</td>\n",
       "      <td>xxl</td>\n",
       "      <td>grey</td>\n",
       "      <td>46</td>\n",
       "      <td>19.9</td>\n",
       "      <td>30823</td>\n",
       "      <td>Mrs</td>\n",
       "      <td>22-04-1970</td>\n",
       "      <td>1001</td>\n",
       "      <td>15-03-2015</td>\n",
       "      <td>1</td>\n",
       "    </tr>\n",
       "    <tr>\n",
       "      <th>2</th>\n",
       "      <td>11</td>\n",
       "      <td>22-06-2016</td>\n",
       "      <td>05-07-2016</td>\n",
       "      <td>25</td>\n",
       "      <td>xxl</td>\n",
       "      <td>grey</td>\n",
       "      <td>5</td>\n",
       "      <td>79.9</td>\n",
       "      <td>30823</td>\n",
       "      <td>Mrs</td>\n",
       "      <td>22-04-1970</td>\n",
       "      <td>1001</td>\n",
       "      <td>15-03-2015</td>\n",
       "      <td>0</td>\n",
       "    </tr>\n",
       "    <tr>\n",
       "      <th>3</th>\n",
       "      <td>32</td>\n",
       "      <td>23-06-2016</td>\n",
       "      <td>26-06-2016</td>\n",
       "      <td>173</td>\n",
       "      <td>m</td>\n",
       "      <td>brown</td>\n",
       "      <td>20</td>\n",
       "      <td>19.9</td>\n",
       "      <td>17234</td>\n",
       "      <td>Mrs</td>\n",
       "      <td>09-01-1960</td>\n",
       "      <td>1013</td>\n",
       "      <td>17-02-2015</td>\n",
       "      <td>0</td>\n",
       "    </tr>\n",
       "    <tr>\n",
       "      <th>4</th>\n",
       "      <td>43</td>\n",
       "      <td>23-06-2016</td>\n",
       "      <td>26-06-2016</td>\n",
       "      <td>394</td>\n",
       "      <td>40</td>\n",
       "      <td>black</td>\n",
       "      <td>44</td>\n",
       "      <td>90.0</td>\n",
       "      <td>30827</td>\n",
       "      <td>Mrs</td>\n",
       "      <td>NaN</td>\n",
       "      <td>1006</td>\n",
       "      <td>09-02-2016</td>\n",
       "      <td>1</td>\n",
       "    </tr>\n",
       "  </tbody>\n",
       "</table>\n",
       "</div>"
      ],
      "text/plain": [
       "   order_item_id  order_date delivery_date  item_id item_size item_color  \\\n",
       "0              1  22-06-2016    27-06-2016      643        38       navy   \n",
       "1             10  22-06-2016    27-06-2016      195       xxl       grey   \n",
       "2             11  22-06-2016    05-07-2016       25       xxl       grey   \n",
       "3             32  23-06-2016    26-06-2016      173         m      brown   \n",
       "4             43  23-06-2016    26-06-2016      394        40      black   \n",
       "\n",
       "   brand_id  item_price  user_id user_title    user_dob  user_state  \\\n",
       "0        30        49.9    30822        Mrs  17-04-1969        1013   \n",
       "1        46        19.9    30823        Mrs  22-04-1970        1001   \n",
       "2         5        79.9    30823        Mrs  22-04-1970        1001   \n",
       "3        20        19.9    17234        Mrs  09-01-1960        1013   \n",
       "4        44        90.0    30827        Mrs         NaN        1006   \n",
       "\n",
       "  user_reg_date  return  \n",
       "0    23-06-2016       0  \n",
       "1    15-03-2015       1  \n",
       "2    15-03-2015       0  \n",
       "3    17-02-2015       0  \n",
       "4    09-02-2016       1  "
      ]
     },
     "execution_count": 3,
     "metadata": {},
     "output_type": "execute_result"
    }
   ],
   "source": [
    "df.head()"
   ]
  },
  {
   "cell_type": "code",
   "execution_count": 4,
   "id": "36d59724",
   "metadata": {},
   "outputs": [
    {
     "name": "stdout",
     "output_type": "stream",
     "text": [
      "<class 'pandas.core.frame.DataFrame'>\n",
      "RangeIndex: 79945 entries, 0 to 79944\n",
      "Data columns (total 14 columns):\n",
      " #   Column         Non-Null Count  Dtype  \n",
      "---  ------         --------------  -----  \n",
      " 0   order_item_id  79945 non-null  int64  \n",
      " 1   order_date     79945 non-null  object \n",
      " 2   delivery_date  72509 non-null  object \n",
      " 3   item_id        79945 non-null  int64  \n",
      " 4   item_size      79945 non-null  object \n",
      " 5   item_color     79945 non-null  object \n",
      " 6   brand_id       79945 non-null  int64  \n",
      " 7   item_price     79945 non-null  float64\n",
      " 8   user_id        79945 non-null  int64  \n",
      " 9   user_title     79945 non-null  object \n",
      " 10  user_dob       72956 non-null  object \n",
      " 11  user_state     79945 non-null  int64  \n",
      " 12  user_reg_date  79945 non-null  object \n",
      " 13  return         79945 non-null  int64  \n",
      "dtypes: float64(1), int64(6), object(7)\n",
      "memory usage: 8.5+ MB\n"
     ]
    }
   ],
   "source": [
    "df.info()"
   ]
  },
  {
   "cell_type": "code",
   "execution_count": 5,
   "id": "59a21742",
   "metadata": {},
   "outputs": [
    {
     "data": {
      "text/html": [
       "<div>\n",
       "<style scoped>\n",
       "    .dataframe tbody tr th:only-of-type {\n",
       "        vertical-align: middle;\n",
       "    }\n",
       "\n",
       "    .dataframe tbody tr th {\n",
       "        vertical-align: top;\n",
       "    }\n",
       "\n",
       "    .dataframe thead th {\n",
       "        text-align: right;\n",
       "    }\n",
       "</style>\n",
       "<table border=\"1\" class=\"dataframe\">\n",
       "  <thead>\n",
       "    <tr style=\"text-align: right;\">\n",
       "      <th></th>\n",
       "      <th>order_item_id</th>\n",
       "      <th>item_id</th>\n",
       "      <th>brand_id</th>\n",
       "      <th>item_price</th>\n",
       "      <th>user_id</th>\n",
       "      <th>user_state</th>\n",
       "      <th>return</th>\n",
       "    </tr>\n",
       "  </thead>\n",
       "  <tbody>\n",
       "    <tr>\n",
       "      <th>count</th>\n",
       "      <td>79945.000000</td>\n",
       "      <td>79945.000000</td>\n",
       "      <td>79945.000000</td>\n",
       "      <td>79945.000000</td>\n",
       "      <td>79945.000000</td>\n",
       "      <td>79945.000000</td>\n",
       "      <td>79945.000000</td>\n",
       "    </tr>\n",
       "    <tr>\n",
       "      <th>mean</th>\n",
       "      <td>50056.599925</td>\n",
       "      <td>924.281231</td>\n",
       "      <td>30.100819</td>\n",
       "      <td>65.088521</td>\n",
       "      <td>27185.708500</td>\n",
       "      <td>1007.268485</td>\n",
       "      <td>0.458590</td>\n",
       "    </tr>\n",
       "    <tr>\n",
       "      <th>std</th>\n",
       "      <td>28872.601957</td>\n",
       "      <td>702.577022</td>\n",
       "      <td>28.157290</td>\n",
       "      <td>47.729105</td>\n",
       "      <td>14063.256304</td>\n",
       "      <td>4.281872</td>\n",
       "      <td>0.498285</td>\n",
       "    </tr>\n",
       "    <tr>\n",
       "      <th>min</th>\n",
       "      <td>1.000000</td>\n",
       "      <td>1.000000</td>\n",
       "      <td>1.000000</td>\n",
       "      <td>0.000000</td>\n",
       "      <td>9.000000</td>\n",
       "      <td>1001.000000</td>\n",
       "      <td>0.000000</td>\n",
       "    </tr>\n",
       "    <tr>\n",
       "      <th>25%</th>\n",
       "      <td>25133.000000</td>\n",
       "      <td>214.000000</td>\n",
       "      <td>5.000000</td>\n",
       "      <td>29.900000</td>\n",
       "      <td>14943.000000</td>\n",
       "      <td>1002.000000</td>\n",
       "      <td>0.000000</td>\n",
       "    </tr>\n",
       "    <tr>\n",
       "      <th>50%</th>\n",
       "      <td>49985.000000</td>\n",
       "      <td>812.000000</td>\n",
       "      <td>25.000000</td>\n",
       "      <td>49.900000</td>\n",
       "      <td>31189.000000</td>\n",
       "      <td>1008.000000</td>\n",
       "      <td>0.000000</td>\n",
       "    </tr>\n",
       "    <tr>\n",
       "      <th>75%</th>\n",
       "      <td>75118.000000</td>\n",
       "      <td>1582.000000</td>\n",
       "      <td>44.000000</td>\n",
       "      <td>79.900000</td>\n",
       "      <td>38931.000000</td>\n",
       "      <td>1010.000000</td>\n",
       "      <td>1.000000</td>\n",
       "    </tr>\n",
       "    <tr>\n",
       "      <th>max</th>\n",
       "      <td>100000.000000</td>\n",
       "      <td>2241.000000</td>\n",
       "      <td>138.000000</td>\n",
       "      <td>999.000000</td>\n",
       "      <td>48241.000000</td>\n",
       "      <td>1016.000000</td>\n",
       "      <td>1.000000</td>\n",
       "    </tr>\n",
       "  </tbody>\n",
       "</table>\n",
       "</div>"
      ],
      "text/plain": [
       "       order_item_id       item_id      brand_id    item_price       user_id  \\\n",
       "count   79945.000000  79945.000000  79945.000000  79945.000000  79945.000000   \n",
       "mean    50056.599925    924.281231     30.100819     65.088521  27185.708500   \n",
       "std     28872.601957    702.577022     28.157290     47.729105  14063.256304   \n",
       "min         1.000000      1.000000      1.000000      0.000000      9.000000   \n",
       "25%     25133.000000    214.000000      5.000000     29.900000  14943.000000   \n",
       "50%     49985.000000    812.000000     25.000000     49.900000  31189.000000   \n",
       "75%     75118.000000   1582.000000     44.000000     79.900000  38931.000000   \n",
       "max    100000.000000   2241.000000    138.000000    999.000000  48241.000000   \n",
       "\n",
       "         user_state        return  \n",
       "count  79945.000000  79945.000000  \n",
       "mean    1007.268485      0.458590  \n",
       "std        4.281872      0.498285  \n",
       "min     1001.000000      0.000000  \n",
       "25%     1002.000000      0.000000  \n",
       "50%     1008.000000      0.000000  \n",
       "75%     1010.000000      1.000000  \n",
       "max     1016.000000      1.000000  "
      ]
     },
     "execution_count": 5,
     "metadata": {},
     "output_type": "execute_result"
    }
   ],
   "source": [
    "df.describe()"
   ]
  },
  {
   "cell_type": "code",
   "execution_count": 6,
   "id": "8c64e353",
   "metadata": {},
   "outputs": [
    {
     "data": {
      "text/plain": [
       "order_item_id       0\n",
       "order_date          0\n",
       "delivery_date    7436\n",
       "item_id             0\n",
       "item_size           0\n",
       "item_color          0\n",
       "brand_id            0\n",
       "item_price          0\n",
       "user_id             0\n",
       "user_title          0\n",
       "user_dob         6989\n",
       "user_state          0\n",
       "user_reg_date       0\n",
       "return              0\n",
       "dtype: int64"
      ]
     },
     "execution_count": 6,
     "metadata": {},
     "output_type": "execute_result"
    }
   ],
   "source": [
    "#Checking any null values present.\n",
    "df.isnull().sum()"
   ]
  },
  {
   "cell_type": "code",
   "execution_count": null,
   "id": "664713bc",
   "metadata": {},
   "outputs": [],
   "source": []
  },
  {
   "cell_type": "markdown",
   "id": "96d7ae37",
   "metadata": {},
   "source": [
    "# EDA (Exploratry Data Analysis)"
   ]
  },
  {
   "cell_type": "code",
   "execution_count": 7,
   "id": "319c376e",
   "metadata": {},
   "outputs": [],
   "source": [
    "# Making a EDA html Report\n",
    "# from pandas_profiling import ProfileReport\n",
    "# report = ProfileReport(df)\n",
    "# report.to_file(\"data.html\")"
   ]
  },
  {
   "cell_type": "code",
   "execution_count": null,
   "id": "b232e03d",
   "metadata": {},
   "outputs": [],
   "source": []
  },
  {
   "cell_type": "code",
   "execution_count": 8,
   "id": "95e4cc96",
   "metadata": {},
   "outputs": [],
   "source": [
    "# Pairplot of features with target value\n",
    "# sns.pairplot(df, hue=\"return\")"
   ]
  },
  {
   "cell_type": "code",
   "execution_count": null,
   "id": "2adda157",
   "metadata": {},
   "outputs": [],
   "source": []
  },
  {
   "cell_type": "markdown",
   "id": "a2e02564",
   "metadata": {},
   "source": [
    "# Taking care of Missing Values\n",
    "- missing values at delivery_date and user_dob\n",
    "- dropping those nan values."
   ]
  },
  {
   "cell_type": "code",
   "execution_count": 9,
   "id": "2e061932",
   "metadata": {},
   "outputs": [],
   "source": [
    "#dropping nan values\n",
    "df.dropna(inplace=True)"
   ]
  },
  {
   "cell_type": "code",
   "execution_count": 10,
   "id": "96e2a83e",
   "metadata": {},
   "outputs": [
    {
     "data": {
      "text/plain": [
       "order_item_id    0\n",
       "order_date       0\n",
       "delivery_date    0\n",
       "item_id          0\n",
       "item_size        0\n",
       "item_color       0\n",
       "brand_id         0\n",
       "item_price       0\n",
       "user_id          0\n",
       "user_title       0\n",
       "user_dob         0\n",
       "user_state       0\n",
       "user_reg_date    0\n",
       "return           0\n",
       "dtype: int64"
      ]
     },
     "execution_count": 10,
     "metadata": {},
     "output_type": "execute_result"
    }
   ],
   "source": [
    "#checking anu nan values\n",
    "df.isnull().sum()"
   ]
  },
  {
   "cell_type": "code",
   "execution_count": 11,
   "id": "b65895b9",
   "metadata": {},
   "outputs": [
    {
     "name": "stdout",
     "output_type": "stream",
     "text": [
      "<class 'pandas.core.frame.DataFrame'>\n",
      "Int64Index: 66162 entries, 0 to 79944\n",
      "Data columns (total 14 columns):\n",
      " #   Column         Non-Null Count  Dtype  \n",
      "---  ------         --------------  -----  \n",
      " 0   order_item_id  66162 non-null  int64  \n",
      " 1   order_date     66162 non-null  object \n",
      " 2   delivery_date  66162 non-null  object \n",
      " 3   item_id        66162 non-null  int64  \n",
      " 4   item_size      66162 non-null  object \n",
      " 5   item_color     66162 non-null  object \n",
      " 6   brand_id       66162 non-null  int64  \n",
      " 7   item_price     66162 non-null  float64\n",
      " 8   user_id        66162 non-null  int64  \n",
      " 9   user_title     66162 non-null  object \n",
      " 10  user_dob       66162 non-null  object \n",
      " 11  user_state     66162 non-null  int64  \n",
      " 12  user_reg_date  66162 non-null  object \n",
      " 13  return         66162 non-null  int64  \n",
      "dtypes: float64(1), int64(6), object(7)\n",
      "memory usage: 7.6+ MB\n"
     ]
    }
   ],
   "source": [
    "df.info()"
   ]
  },
  {
   "cell_type": "code",
   "execution_count": null,
   "id": "92429c64",
   "metadata": {},
   "outputs": [],
   "source": []
  },
  {
   "cell_type": "markdown",
   "id": "76aec464",
   "metadata": {},
   "source": [
    "# Taking care of All Date Catagorical features.\n",
    "- Date catagorical features are:- delivery_date, order_date, user_dob and user_reg_date.\n",
    "- creating different features day, month and year for all date catagorical features using pandas.to_datetime."
   ]
  },
  {
   "cell_type": "code",
   "execution_count": 12,
   "id": "5e37b0c5",
   "metadata": {},
   "outputs": [],
   "source": [
    "#Converting delivery_date into delivery_day, delivery_month, delivery_year\n",
    "df[\"delivery_day\"] = pd.to_datetime(df.delivery_date, \n",
    "                                           format='%d-%m-%Y').dt.day\n",
    "df[\"delivery_month\"] = pd.to_datetime(df.delivery_date,\n",
    "                                             format='%d-%m-%Y').dt.month\n",
    "df[\"delivery_year\"] = pd.to_datetime(df.delivery_date,\n",
    "                                             format='%d-%m-%Y').dt.year"
   ]
  },
  {
   "cell_type": "code",
   "execution_count": 13,
   "id": "e81a38b9",
   "metadata": {},
   "outputs": [],
   "source": [
    "#converting oreder_date into order_day, order_month, order_year\n",
    "df[\"order_day\"] = pd.to_datetime(df.order_date, \n",
    "                                           format='%d-%m-%Y').dt.day\n",
    "df[\"order_month\"] = pd.to_datetime(df.order_date,\n",
    "                                             format='%d-%m-%Y').dt.month\n",
    "df[\"order_year\"] = pd.to_datetime(df.order_date,\n",
    "                                             format='%d-%m-%Y').dt.year"
   ]
  },
  {
   "cell_type": "code",
   "execution_count": 14,
   "id": "4a1eef97",
   "metadata": {},
   "outputs": [],
   "source": [
    "#converting user_dob_day into user_dob_day, user_dob_month, user_dob_year\n",
    "df[\"user_dob_day\"] = pd.to_datetime(df.user_dob, \n",
    "                                           format='%d-%m-%Y').dt.day\n",
    "df[\"user_dob_month\"] = pd.to_datetime(df.user_dob,\n",
    "                                             format='%d-%m-%Y').dt.month\n",
    "df[\"user_dob_year\"] = pd.to_datetime(df.user_dob,\n",
    "                                             format='%d-%m-%Y').dt.year"
   ]
  },
  {
   "cell_type": "code",
   "execution_count": 15,
   "id": "88579273",
   "metadata": {},
   "outputs": [],
   "source": [
    "#converting user_reg_day into user_reg_day, user_reg_month, user_reg_year\n",
    "df[\"user_reg_day\"] = pd.to_datetime(df.user_reg_date, \n",
    "                                           format='%d-%m-%Y').dt.day\n",
    "df[\"user_reg_month\"] = pd.to_datetime(df.user_reg_date,\n",
    "                                             format='%d-%m-%Y').dt.month\n",
    "df[\"user_reg_year\"] = pd.to_datetime(df.user_reg_date,\n",
    "                                             format='%d-%m-%Y').dt.year"
   ]
  },
  {
   "cell_type": "code",
   "execution_count": 16,
   "id": "98b0b5bd",
   "metadata": {},
   "outputs": [
    {
     "data": {
      "text/plain": [
       "Index(['order_item_id', 'order_date', 'delivery_date', 'item_id', 'item_size',\n",
       "       'item_color', 'brand_id', 'item_price', 'user_id', 'user_title',\n",
       "       'user_dob', 'user_state', 'user_reg_date', 'return', 'delivery_day',\n",
       "       'delivery_month', 'delivery_year', 'order_day', 'order_month',\n",
       "       'order_year', 'user_dob_day', 'user_dob_month', 'user_dob_year',\n",
       "       'user_reg_day', 'user_reg_month', 'user_reg_year'],\n",
       "      dtype='object')"
      ]
     },
     "execution_count": 16,
     "metadata": {},
     "output_type": "execute_result"
    }
   ],
   "source": [
    "df.columns"
   ]
  },
  {
   "cell_type": "markdown",
   "id": "33259c7f",
   "metadata": {},
   "source": [
    "# Creating days_taken feature\n",
    "- days_taken feature to see how many days it took to a item to deliver it to a user form the order day.\n",
    "- To create days_feature first need to create the delivery_day_X and order_dayX for total days.\n",
    "- Creating days_taken features by subtracting delivery_days_X by order_dayX."
   ]
  },
  {
   "cell_type": "code",
   "execution_count": 17,
   "id": "ac07ad51",
   "metadata": {},
   "outputs": [],
   "source": [
    "#Creating delivery_days_X feature\n",
    "df[\"delivery_days_X\"]=df[\"delivery_year\"]*365+df[\"delivery_month\"]*30+df[\"delivery_day\"]"
   ]
  },
  {
   "cell_type": "code",
   "execution_count": 18,
   "id": "24b2d1ea",
   "metadata": {},
   "outputs": [],
   "source": [
    "#Creating order_daysX feature \n",
    "df[\"order_dayX\"]=df[\"order_year\"]*365+df[\"order_month\"]*30+df[\"order_day\"]"
   ]
  },
  {
   "cell_type": "code",
   "execution_count": 19,
   "id": "095f6b61",
   "metadata": {},
   "outputs": [],
   "source": [
    "#Creating days_taken features\n",
    "df[\"days_taken\"]=df[\"delivery_days_X\"]-df[\"order_dayX\"]"
   ]
  },
  {
   "cell_type": "code",
   "execution_count": 20,
   "id": "9a15a215",
   "metadata": {},
   "outputs": [
    {
     "data": {
      "text/plain": [
       "0         5\n",
       "1         5\n",
       "2        13\n",
       "3         3\n",
       "5         3\n",
       "         ..\n",
       "79938     3\n",
       "79939     1\n",
       "79940     1\n",
       "79942     1\n",
       "79944     1\n",
       "Name: days_taken, Length: 66162, dtype: int32"
      ]
     },
     "execution_count": 20,
     "metadata": {},
     "output_type": "execute_result"
    }
   ],
   "source": [
    "df[\"days_taken\"].astype(int)"
   ]
  },
  {
   "cell_type": "code",
   "execution_count": 21,
   "id": "965a264a",
   "metadata": {},
   "outputs": [
    {
     "data": {
      "text/html": [
       "<div>\n",
       "<style scoped>\n",
       "    .dataframe tbody tr th:only-of-type {\n",
       "        vertical-align: middle;\n",
       "    }\n",
       "\n",
       "    .dataframe tbody tr th {\n",
       "        vertical-align: top;\n",
       "    }\n",
       "\n",
       "    .dataframe thead th {\n",
       "        text-align: right;\n",
       "    }\n",
       "</style>\n",
       "<table border=\"1\" class=\"dataframe\">\n",
       "  <thead>\n",
       "    <tr style=\"text-align: right;\">\n",
       "      <th></th>\n",
       "      <th>order_item_id</th>\n",
       "      <th>order_date</th>\n",
       "      <th>delivery_date</th>\n",
       "      <th>item_id</th>\n",
       "      <th>item_size</th>\n",
       "      <th>item_color</th>\n",
       "      <th>brand_id</th>\n",
       "      <th>item_price</th>\n",
       "      <th>user_id</th>\n",
       "      <th>user_title</th>\n",
       "      <th>...</th>\n",
       "      <th>order_year</th>\n",
       "      <th>user_dob_day</th>\n",
       "      <th>user_dob_month</th>\n",
       "      <th>user_dob_year</th>\n",
       "      <th>user_reg_day</th>\n",
       "      <th>user_reg_month</th>\n",
       "      <th>user_reg_year</th>\n",
       "      <th>delivery_days_X</th>\n",
       "      <th>order_dayX</th>\n",
       "      <th>days_taken</th>\n",
       "    </tr>\n",
       "  </thead>\n",
       "  <tbody>\n",
       "    <tr>\n",
       "      <th>0</th>\n",
       "      <td>1</td>\n",
       "      <td>22-06-2016</td>\n",
       "      <td>27-06-2016</td>\n",
       "      <td>643</td>\n",
       "      <td>38</td>\n",
       "      <td>navy</td>\n",
       "      <td>30</td>\n",
       "      <td>49.9</td>\n",
       "      <td>30822</td>\n",
       "      <td>Mrs</td>\n",
       "      <td>...</td>\n",
       "      <td>2016</td>\n",
       "      <td>17</td>\n",
       "      <td>4</td>\n",
       "      <td>1969</td>\n",
       "      <td>23</td>\n",
       "      <td>6</td>\n",
       "      <td>2016</td>\n",
       "      <td>736047</td>\n",
       "      <td>736042</td>\n",
       "      <td>5</td>\n",
       "    </tr>\n",
       "    <tr>\n",
       "      <th>1</th>\n",
       "      <td>10</td>\n",
       "      <td>22-06-2016</td>\n",
       "      <td>27-06-2016</td>\n",
       "      <td>195</td>\n",
       "      <td>xxl</td>\n",
       "      <td>grey</td>\n",
       "      <td>46</td>\n",
       "      <td>19.9</td>\n",
       "      <td>30823</td>\n",
       "      <td>Mrs</td>\n",
       "      <td>...</td>\n",
       "      <td>2016</td>\n",
       "      <td>22</td>\n",
       "      <td>4</td>\n",
       "      <td>1970</td>\n",
       "      <td>15</td>\n",
       "      <td>3</td>\n",
       "      <td>2015</td>\n",
       "      <td>736047</td>\n",
       "      <td>736042</td>\n",
       "      <td>5</td>\n",
       "    </tr>\n",
       "    <tr>\n",
       "      <th>2</th>\n",
       "      <td>11</td>\n",
       "      <td>22-06-2016</td>\n",
       "      <td>05-07-2016</td>\n",
       "      <td>25</td>\n",
       "      <td>xxl</td>\n",
       "      <td>grey</td>\n",
       "      <td>5</td>\n",
       "      <td>79.9</td>\n",
       "      <td>30823</td>\n",
       "      <td>Mrs</td>\n",
       "      <td>...</td>\n",
       "      <td>2016</td>\n",
       "      <td>22</td>\n",
       "      <td>4</td>\n",
       "      <td>1970</td>\n",
       "      <td>15</td>\n",
       "      <td>3</td>\n",
       "      <td>2015</td>\n",
       "      <td>736055</td>\n",
       "      <td>736042</td>\n",
       "      <td>13</td>\n",
       "    </tr>\n",
       "    <tr>\n",
       "      <th>3</th>\n",
       "      <td>32</td>\n",
       "      <td>23-06-2016</td>\n",
       "      <td>26-06-2016</td>\n",
       "      <td>173</td>\n",
       "      <td>m</td>\n",
       "      <td>brown</td>\n",
       "      <td>20</td>\n",
       "      <td>19.9</td>\n",
       "      <td>17234</td>\n",
       "      <td>Mrs</td>\n",
       "      <td>...</td>\n",
       "      <td>2016</td>\n",
       "      <td>9</td>\n",
       "      <td>1</td>\n",
       "      <td>1960</td>\n",
       "      <td>17</td>\n",
       "      <td>2</td>\n",
       "      <td>2015</td>\n",
       "      <td>736046</td>\n",
       "      <td>736043</td>\n",
       "      <td>3</td>\n",
       "    </tr>\n",
       "    <tr>\n",
       "      <th>5</th>\n",
       "      <td>45</td>\n",
       "      <td>23-06-2016</td>\n",
       "      <td>26-06-2016</td>\n",
       "      <td>448</td>\n",
       "      <td>42</td>\n",
       "      <td>bordeaux</td>\n",
       "      <td>72</td>\n",
       "      <td>59.9</td>\n",
       "      <td>30828</td>\n",
       "      <td>Mrs</td>\n",
       "      <td>...</td>\n",
       "      <td>2016</td>\n",
       "      <td>13</td>\n",
       "      <td>5</td>\n",
       "      <td>1966</td>\n",
       "      <td>21</td>\n",
       "      <td>1</td>\n",
       "      <td>2016</td>\n",
       "      <td>736046</td>\n",
       "      <td>736043</td>\n",
       "      <td>3</td>\n",
       "    </tr>\n",
       "  </tbody>\n",
       "</table>\n",
       "<p>5 rows × 29 columns</p>\n",
       "</div>"
      ],
      "text/plain": [
       "   order_item_id  order_date delivery_date  item_id item_size item_color  \\\n",
       "0              1  22-06-2016    27-06-2016      643        38       navy   \n",
       "1             10  22-06-2016    27-06-2016      195       xxl       grey   \n",
       "2             11  22-06-2016    05-07-2016       25       xxl       grey   \n",
       "3             32  23-06-2016    26-06-2016      173         m      brown   \n",
       "5             45  23-06-2016    26-06-2016      448        42   bordeaux   \n",
       "\n",
       "   brand_id  item_price  user_id user_title  ... order_year  user_dob_day  \\\n",
       "0        30        49.9    30822        Mrs  ...       2016            17   \n",
       "1        46        19.9    30823        Mrs  ...       2016            22   \n",
       "2         5        79.9    30823        Mrs  ...       2016            22   \n",
       "3        20        19.9    17234        Mrs  ...       2016             9   \n",
       "5        72        59.9    30828        Mrs  ...       2016            13   \n",
       "\n",
       "  user_dob_month  user_dob_year  user_reg_day  user_reg_month  user_reg_year  \\\n",
       "0              4           1969            23               6           2016   \n",
       "1              4           1970            15               3           2015   \n",
       "2              4           1970            15               3           2015   \n",
       "3              1           1960            17               2           2015   \n",
       "5              5           1966            21               1           2016   \n",
       "\n",
       "   delivery_days_X  order_dayX  days_taken  \n",
       "0           736047      736042           5  \n",
       "1           736047      736042           5  \n",
       "2           736055      736042          13  \n",
       "3           736046      736043           3  \n",
       "5           736046      736043           3  \n",
       "\n",
       "[5 rows x 29 columns]"
      ]
     },
     "execution_count": 21,
     "metadata": {},
     "output_type": "execute_result"
    }
   ],
   "source": [
    "df.head()"
   ]
  },
  {
   "cell_type": "code",
   "execution_count": null,
   "id": "f8c55a2c",
   "metadata": {},
   "outputs": [],
   "source": []
  },
  {
   "cell_type": "markdown",
   "id": "969f0d24",
   "metadata": {},
   "source": [
    "# Creating Age_user feature\n",
    "- Age_user feature to see the age of a user.\n",
    "- By subtracting user_dob_year from order_year."
   ]
  },
  {
   "cell_type": "code",
   "execution_count": 22,
   "id": "60d5fb1d",
   "metadata": {},
   "outputs": [],
   "source": [
    "# Creating Age_user feature\n",
    "df[\"Age_user\"] = df[\"order_year\"] - df[\"user_dob_year\"]"
   ]
  },
  {
   "cell_type": "code",
   "execution_count": 23,
   "id": "81cd6cfd",
   "metadata": {
    "scrolled": true
   },
   "outputs": [
    {
     "data": {
      "text/html": [
       "<div>\n",
       "<style scoped>\n",
       "    .dataframe tbody tr th:only-of-type {\n",
       "        vertical-align: middle;\n",
       "    }\n",
       "\n",
       "    .dataframe tbody tr th {\n",
       "        vertical-align: top;\n",
       "    }\n",
       "\n",
       "    .dataframe thead th {\n",
       "        text-align: right;\n",
       "    }\n",
       "</style>\n",
       "<table border=\"1\" class=\"dataframe\">\n",
       "  <thead>\n",
       "    <tr style=\"text-align: right;\">\n",
       "      <th></th>\n",
       "      <th>order_item_id</th>\n",
       "      <th>order_date</th>\n",
       "      <th>delivery_date</th>\n",
       "      <th>item_id</th>\n",
       "      <th>item_size</th>\n",
       "      <th>item_color</th>\n",
       "      <th>brand_id</th>\n",
       "      <th>item_price</th>\n",
       "      <th>user_id</th>\n",
       "      <th>user_title</th>\n",
       "      <th>...</th>\n",
       "      <th>user_dob_day</th>\n",
       "      <th>user_dob_month</th>\n",
       "      <th>user_dob_year</th>\n",
       "      <th>user_reg_day</th>\n",
       "      <th>user_reg_month</th>\n",
       "      <th>user_reg_year</th>\n",
       "      <th>delivery_days_X</th>\n",
       "      <th>order_dayX</th>\n",
       "      <th>days_taken</th>\n",
       "      <th>Age_user</th>\n",
       "    </tr>\n",
       "  </thead>\n",
       "  <tbody>\n",
       "    <tr>\n",
       "      <th>0</th>\n",
       "      <td>1</td>\n",
       "      <td>22-06-2016</td>\n",
       "      <td>27-06-2016</td>\n",
       "      <td>643</td>\n",
       "      <td>38</td>\n",
       "      <td>navy</td>\n",
       "      <td>30</td>\n",
       "      <td>49.9</td>\n",
       "      <td>30822</td>\n",
       "      <td>Mrs</td>\n",
       "      <td>...</td>\n",
       "      <td>17</td>\n",
       "      <td>4</td>\n",
       "      <td>1969</td>\n",
       "      <td>23</td>\n",
       "      <td>6</td>\n",
       "      <td>2016</td>\n",
       "      <td>736047</td>\n",
       "      <td>736042</td>\n",
       "      <td>5</td>\n",
       "      <td>47</td>\n",
       "    </tr>\n",
       "    <tr>\n",
       "      <th>1</th>\n",
       "      <td>10</td>\n",
       "      <td>22-06-2016</td>\n",
       "      <td>27-06-2016</td>\n",
       "      <td>195</td>\n",
       "      <td>xxl</td>\n",
       "      <td>grey</td>\n",
       "      <td>46</td>\n",
       "      <td>19.9</td>\n",
       "      <td>30823</td>\n",
       "      <td>Mrs</td>\n",
       "      <td>...</td>\n",
       "      <td>22</td>\n",
       "      <td>4</td>\n",
       "      <td>1970</td>\n",
       "      <td>15</td>\n",
       "      <td>3</td>\n",
       "      <td>2015</td>\n",
       "      <td>736047</td>\n",
       "      <td>736042</td>\n",
       "      <td>5</td>\n",
       "      <td>46</td>\n",
       "    </tr>\n",
       "    <tr>\n",
       "      <th>2</th>\n",
       "      <td>11</td>\n",
       "      <td>22-06-2016</td>\n",
       "      <td>05-07-2016</td>\n",
       "      <td>25</td>\n",
       "      <td>xxl</td>\n",
       "      <td>grey</td>\n",
       "      <td>5</td>\n",
       "      <td>79.9</td>\n",
       "      <td>30823</td>\n",
       "      <td>Mrs</td>\n",
       "      <td>...</td>\n",
       "      <td>22</td>\n",
       "      <td>4</td>\n",
       "      <td>1970</td>\n",
       "      <td>15</td>\n",
       "      <td>3</td>\n",
       "      <td>2015</td>\n",
       "      <td>736055</td>\n",
       "      <td>736042</td>\n",
       "      <td>13</td>\n",
       "      <td>46</td>\n",
       "    </tr>\n",
       "    <tr>\n",
       "      <th>3</th>\n",
       "      <td>32</td>\n",
       "      <td>23-06-2016</td>\n",
       "      <td>26-06-2016</td>\n",
       "      <td>173</td>\n",
       "      <td>m</td>\n",
       "      <td>brown</td>\n",
       "      <td>20</td>\n",
       "      <td>19.9</td>\n",
       "      <td>17234</td>\n",
       "      <td>Mrs</td>\n",
       "      <td>...</td>\n",
       "      <td>9</td>\n",
       "      <td>1</td>\n",
       "      <td>1960</td>\n",
       "      <td>17</td>\n",
       "      <td>2</td>\n",
       "      <td>2015</td>\n",
       "      <td>736046</td>\n",
       "      <td>736043</td>\n",
       "      <td>3</td>\n",
       "      <td>56</td>\n",
       "    </tr>\n",
       "    <tr>\n",
       "      <th>5</th>\n",
       "      <td>45</td>\n",
       "      <td>23-06-2016</td>\n",
       "      <td>26-06-2016</td>\n",
       "      <td>448</td>\n",
       "      <td>42</td>\n",
       "      <td>bordeaux</td>\n",
       "      <td>72</td>\n",
       "      <td>59.9</td>\n",
       "      <td>30828</td>\n",
       "      <td>Mrs</td>\n",
       "      <td>...</td>\n",
       "      <td>13</td>\n",
       "      <td>5</td>\n",
       "      <td>1966</td>\n",
       "      <td>21</td>\n",
       "      <td>1</td>\n",
       "      <td>2016</td>\n",
       "      <td>736046</td>\n",
       "      <td>736043</td>\n",
       "      <td>3</td>\n",
       "      <td>50</td>\n",
       "    </tr>\n",
       "  </tbody>\n",
       "</table>\n",
       "<p>5 rows × 30 columns</p>\n",
       "</div>"
      ],
      "text/plain": [
       "   order_item_id  order_date delivery_date  item_id item_size item_color  \\\n",
       "0              1  22-06-2016    27-06-2016      643        38       navy   \n",
       "1             10  22-06-2016    27-06-2016      195       xxl       grey   \n",
       "2             11  22-06-2016    05-07-2016       25       xxl       grey   \n",
       "3             32  23-06-2016    26-06-2016      173         m      brown   \n",
       "5             45  23-06-2016    26-06-2016      448        42   bordeaux   \n",
       "\n",
       "   brand_id  item_price  user_id user_title  ... user_dob_day  user_dob_month  \\\n",
       "0        30        49.9    30822        Mrs  ...           17               4   \n",
       "1        46        19.9    30823        Mrs  ...           22               4   \n",
       "2         5        79.9    30823        Mrs  ...           22               4   \n",
       "3        20        19.9    17234        Mrs  ...            9               1   \n",
       "5        72        59.9    30828        Mrs  ...           13               5   \n",
       "\n",
       "  user_dob_year  user_reg_day  user_reg_month  user_reg_year  delivery_days_X  \\\n",
       "0          1969            23               6           2016           736047   \n",
       "1          1970            15               3           2015           736047   \n",
       "2          1970            15               3           2015           736055   \n",
       "3          1960            17               2           2015           736046   \n",
       "5          1966            21               1           2016           736046   \n",
       "\n",
       "   order_dayX  days_taken  Age_user  \n",
       "0      736042           5        47  \n",
       "1      736042           5        46  \n",
       "2      736042          13        46  \n",
       "3      736043           3        56  \n",
       "5      736043           3        50  \n",
       "\n",
       "[5 rows x 30 columns]"
      ]
     },
     "execution_count": 23,
     "metadata": {},
     "output_type": "execute_result"
    }
   ],
   "source": [
    "df.head()"
   ]
  },
  {
   "cell_type": "code",
   "execution_count": null,
   "id": "e01089e7",
   "metadata": {},
   "outputs": [],
   "source": []
  },
  {
   "cell_type": "markdown",
   "id": "1be139f4",
   "metadata": {},
   "source": [
    "# Dropping the Unnecessary features\n",
    "- Dropping delivery_day, delivery_month, delivery_year, delivery_days_X, order_day, order_month, user_reg_month, user_reg_day, user_reg_date."
   ]
  },
  {
   "cell_type": "code",
   "execution_count": 24,
   "id": "7cdf0415",
   "metadata": {},
   "outputs": [
    {
     "data": {
      "text/plain": [
       "Index(['order_item_id', 'order_date', 'delivery_date', 'item_id', 'item_size',\n",
       "       'item_color', 'brand_id', 'item_price', 'user_id', 'user_title',\n",
       "       'user_dob', 'user_state', 'user_reg_date', 'return', 'delivery_day',\n",
       "       'delivery_month', 'delivery_year', 'order_day', 'order_month',\n",
       "       'order_year', 'user_dob_day', 'user_dob_month', 'user_dob_year',\n",
       "       'user_reg_day', 'user_reg_month', 'user_reg_year', 'delivery_days_X',\n",
       "       'order_dayX', 'days_taken', 'Age_user'],\n",
       "      dtype='object')"
      ]
     },
     "execution_count": 24,
     "metadata": {},
     "output_type": "execute_result"
    }
   ],
   "source": [
    "df.columns"
   ]
  },
  {
   "cell_type": "code",
   "execution_count": 25,
   "id": "fdcaa500",
   "metadata": {},
   "outputs": [],
   "source": [
    "#Dropping unneseccary features\n",
    "df.drop([\"delivery_day\"], axis=1, inplace=True)\n",
    "df.drop([\"delivery_month\"], axis=1, inplace=True)\n",
    "df.drop([\"delivery_year\"], axis=1, inplace=True)\n",
    "df.drop([\"delivery_days_X\"], axis=1, inplace=True)\n",
    "df.drop([\"order_day\"], axis=1, inplace=True)\n",
    "df.drop([\"order_month\"], axis=1, inplace=True)\n",
    "df.drop([\"user_reg_month\"], axis=1, inplace=True)\n",
    "df.drop([\"user_reg_day\"], axis=1, inplace=True)\n",
    "df.drop([\"user_reg_date\"], axis=1, inplace=True)\n",
    "df.drop([\"user_title\"], axis=1, inplace=True)"
   ]
  },
  {
   "cell_type": "code",
   "execution_count": 26,
   "id": "d3d70bd2",
   "metadata": {},
   "outputs": [
    {
     "data": {
      "text/plain": [
       "Index(['order_item_id', 'order_date', 'delivery_date', 'item_id', 'item_size',\n",
       "       'item_color', 'brand_id', 'item_price', 'user_id', 'user_dob',\n",
       "       'user_state', 'return', 'order_year', 'user_dob_day', 'user_dob_month',\n",
       "       'user_dob_year', 'user_reg_year', 'order_dayX', 'days_taken',\n",
       "       'Age_user'],\n",
       "      dtype='object')"
      ]
     },
     "execution_count": 26,
     "metadata": {},
     "output_type": "execute_result"
    }
   ],
   "source": [
    "df.columns"
   ]
  },
  {
   "cell_type": "code",
   "execution_count": 27,
   "id": "d4e9db54",
   "metadata": {},
   "outputs": [
    {
     "data": {
      "text/html": [
       "<div>\n",
       "<style scoped>\n",
       "    .dataframe tbody tr th:only-of-type {\n",
       "        vertical-align: middle;\n",
       "    }\n",
       "\n",
       "    .dataframe tbody tr th {\n",
       "        vertical-align: top;\n",
       "    }\n",
       "\n",
       "    .dataframe thead th {\n",
       "        text-align: right;\n",
       "    }\n",
       "</style>\n",
       "<table border=\"1\" class=\"dataframe\">\n",
       "  <thead>\n",
       "    <tr style=\"text-align: right;\">\n",
       "      <th></th>\n",
       "      <th>order_item_id</th>\n",
       "      <th>order_date</th>\n",
       "      <th>delivery_date</th>\n",
       "      <th>item_id</th>\n",
       "      <th>item_size</th>\n",
       "      <th>item_color</th>\n",
       "      <th>brand_id</th>\n",
       "      <th>item_price</th>\n",
       "      <th>user_id</th>\n",
       "      <th>user_dob</th>\n",
       "      <th>user_state</th>\n",
       "      <th>return</th>\n",
       "      <th>order_year</th>\n",
       "      <th>user_dob_day</th>\n",
       "      <th>user_dob_month</th>\n",
       "      <th>user_dob_year</th>\n",
       "      <th>user_reg_year</th>\n",
       "      <th>order_dayX</th>\n",
       "      <th>days_taken</th>\n",
       "      <th>Age_user</th>\n",
       "    </tr>\n",
       "  </thead>\n",
       "  <tbody>\n",
       "    <tr>\n",
       "      <th>0</th>\n",
       "      <td>1</td>\n",
       "      <td>22-06-2016</td>\n",
       "      <td>27-06-2016</td>\n",
       "      <td>643</td>\n",
       "      <td>38</td>\n",
       "      <td>navy</td>\n",
       "      <td>30</td>\n",
       "      <td>49.9</td>\n",
       "      <td>30822</td>\n",
       "      <td>17-04-1969</td>\n",
       "      <td>1013</td>\n",
       "      <td>0</td>\n",
       "      <td>2016</td>\n",
       "      <td>17</td>\n",
       "      <td>4</td>\n",
       "      <td>1969</td>\n",
       "      <td>2016</td>\n",
       "      <td>736042</td>\n",
       "      <td>5</td>\n",
       "      <td>47</td>\n",
       "    </tr>\n",
       "    <tr>\n",
       "      <th>1</th>\n",
       "      <td>10</td>\n",
       "      <td>22-06-2016</td>\n",
       "      <td>27-06-2016</td>\n",
       "      <td>195</td>\n",
       "      <td>xxl</td>\n",
       "      <td>grey</td>\n",
       "      <td>46</td>\n",
       "      <td>19.9</td>\n",
       "      <td>30823</td>\n",
       "      <td>22-04-1970</td>\n",
       "      <td>1001</td>\n",
       "      <td>1</td>\n",
       "      <td>2016</td>\n",
       "      <td>22</td>\n",
       "      <td>4</td>\n",
       "      <td>1970</td>\n",
       "      <td>2015</td>\n",
       "      <td>736042</td>\n",
       "      <td>5</td>\n",
       "      <td>46</td>\n",
       "    </tr>\n",
       "    <tr>\n",
       "      <th>2</th>\n",
       "      <td>11</td>\n",
       "      <td>22-06-2016</td>\n",
       "      <td>05-07-2016</td>\n",
       "      <td>25</td>\n",
       "      <td>xxl</td>\n",
       "      <td>grey</td>\n",
       "      <td>5</td>\n",
       "      <td>79.9</td>\n",
       "      <td>30823</td>\n",
       "      <td>22-04-1970</td>\n",
       "      <td>1001</td>\n",
       "      <td>0</td>\n",
       "      <td>2016</td>\n",
       "      <td>22</td>\n",
       "      <td>4</td>\n",
       "      <td>1970</td>\n",
       "      <td>2015</td>\n",
       "      <td>736042</td>\n",
       "      <td>13</td>\n",
       "      <td>46</td>\n",
       "    </tr>\n",
       "    <tr>\n",
       "      <th>3</th>\n",
       "      <td>32</td>\n",
       "      <td>23-06-2016</td>\n",
       "      <td>26-06-2016</td>\n",
       "      <td>173</td>\n",
       "      <td>m</td>\n",
       "      <td>brown</td>\n",
       "      <td>20</td>\n",
       "      <td>19.9</td>\n",
       "      <td>17234</td>\n",
       "      <td>09-01-1960</td>\n",
       "      <td>1013</td>\n",
       "      <td>0</td>\n",
       "      <td>2016</td>\n",
       "      <td>9</td>\n",
       "      <td>1</td>\n",
       "      <td>1960</td>\n",
       "      <td>2015</td>\n",
       "      <td>736043</td>\n",
       "      <td>3</td>\n",
       "      <td>56</td>\n",
       "    </tr>\n",
       "    <tr>\n",
       "      <th>5</th>\n",
       "      <td>45</td>\n",
       "      <td>23-06-2016</td>\n",
       "      <td>26-06-2016</td>\n",
       "      <td>448</td>\n",
       "      <td>42</td>\n",
       "      <td>bordeaux</td>\n",
       "      <td>72</td>\n",
       "      <td>59.9</td>\n",
       "      <td>30828</td>\n",
       "      <td>13-05-1966</td>\n",
       "      <td>1008</td>\n",
       "      <td>1</td>\n",
       "      <td>2016</td>\n",
       "      <td>13</td>\n",
       "      <td>5</td>\n",
       "      <td>1966</td>\n",
       "      <td>2016</td>\n",
       "      <td>736043</td>\n",
       "      <td>3</td>\n",
       "      <td>50</td>\n",
       "    </tr>\n",
       "  </tbody>\n",
       "</table>\n",
       "</div>"
      ],
      "text/plain": [
       "   order_item_id  order_date delivery_date  item_id item_size item_color  \\\n",
       "0              1  22-06-2016    27-06-2016      643        38       navy   \n",
       "1             10  22-06-2016    27-06-2016      195       xxl       grey   \n",
       "2             11  22-06-2016    05-07-2016       25       xxl       grey   \n",
       "3             32  23-06-2016    26-06-2016      173         m      brown   \n",
       "5             45  23-06-2016    26-06-2016      448        42   bordeaux   \n",
       "\n",
       "   brand_id  item_price  user_id    user_dob  user_state  return  order_year  \\\n",
       "0        30        49.9    30822  17-04-1969        1013       0        2016   \n",
       "1        46        19.9    30823  22-04-1970        1001       1        2016   \n",
       "2         5        79.9    30823  22-04-1970        1001       0        2016   \n",
       "3        20        19.9    17234  09-01-1960        1013       0        2016   \n",
       "5        72        59.9    30828  13-05-1966        1008       1        2016   \n",
       "\n",
       "   user_dob_day  user_dob_month  user_dob_year  user_reg_year  order_dayX  \\\n",
       "0            17               4           1969           2016      736042   \n",
       "1            22               4           1970           2015      736042   \n",
       "2            22               4           1970           2015      736042   \n",
       "3             9               1           1960           2015      736043   \n",
       "5            13               5           1966           2016      736043   \n",
       "\n",
       "   days_taken  Age_user  \n",
       "0           5        47  \n",
       "1           5        46  \n",
       "2          13        46  \n",
       "3           3        56  \n",
       "5           3        50  "
      ]
     },
     "execution_count": 27,
     "metadata": {},
     "output_type": "execute_result"
    }
   ],
   "source": [
    "df.head()"
   ]
  },
  {
   "cell_type": "code",
   "execution_count": 28,
   "id": "04181b84",
   "metadata": {},
   "outputs": [
    {
     "data": {
      "text/plain": [
       "2015    37628\n",
       "2016    28534\n",
       "Name: user_reg_year, dtype: int64"
      ]
     },
     "execution_count": 28,
     "metadata": {},
     "output_type": "execute_result"
    }
   ],
   "source": [
    "df[\"user_reg_year\"].value_counts()"
   ]
  },
  {
   "cell_type": "code",
   "execution_count": 29,
   "id": "de24762a",
   "metadata": {},
   "outputs": [
    {
     "data": {
      "text/html": [
       "<div>\n",
       "<style scoped>\n",
       "    .dataframe tbody tr th:only-of-type {\n",
       "        vertical-align: middle;\n",
       "    }\n",
       "\n",
       "    .dataframe tbody tr th {\n",
       "        vertical-align: top;\n",
       "    }\n",
       "\n",
       "    .dataframe thead th {\n",
       "        text-align: right;\n",
       "    }\n",
       "</style>\n",
       "<table border=\"1\" class=\"dataframe\">\n",
       "  <thead>\n",
       "    <tr style=\"text-align: right;\">\n",
       "      <th></th>\n",
       "      <th>order_item_id</th>\n",
       "      <th>item_id</th>\n",
       "      <th>brand_id</th>\n",
       "      <th>item_price</th>\n",
       "      <th>user_id</th>\n",
       "      <th>user_state</th>\n",
       "      <th>return</th>\n",
       "      <th>order_year</th>\n",
       "      <th>user_dob_day</th>\n",
       "      <th>user_dob_month</th>\n",
       "      <th>user_dob_year</th>\n",
       "      <th>user_reg_year</th>\n",
       "      <th>order_dayX</th>\n",
       "      <th>days_taken</th>\n",
       "      <th>Age_user</th>\n",
       "    </tr>\n",
       "  </thead>\n",
       "  <tbody>\n",
       "    <tr>\n",
       "      <th>order_item_id</th>\n",
       "      <td>1.000000</td>\n",
       "      <td>0.596352</td>\n",
       "      <td>0.139936</td>\n",
       "      <td>0.260892</td>\n",
       "      <td>0.206674</td>\n",
       "      <td>0.011730</td>\n",
       "      <td>0.016436</td>\n",
       "      <td>NaN</td>\n",
       "      <td>0.007004</td>\n",
       "      <td>-0.012756</td>\n",
       "      <td>0.031149</td>\n",
       "      <td>0.070840</td>\n",
       "      <td>0.992312</td>\n",
       "      <td>0.022829</td>\n",
       "      <td>-0.031149</td>\n",
       "    </tr>\n",
       "    <tr>\n",
       "      <th>item_id</th>\n",
       "      <td>0.596352</td>\n",
       "      <td>1.000000</td>\n",
       "      <td>0.267783</td>\n",
       "      <td>0.401057</td>\n",
       "      <td>0.110002</td>\n",
       "      <td>0.007287</td>\n",
       "      <td>0.014509</td>\n",
       "      <td>NaN</td>\n",
       "      <td>0.008263</td>\n",
       "      <td>-0.011358</td>\n",
       "      <td>0.018587</td>\n",
       "      <td>-0.018445</td>\n",
       "      <td>0.616280</td>\n",
       "      <td>0.024119</td>\n",
       "      <td>-0.018587</td>\n",
       "    </tr>\n",
       "    <tr>\n",
       "      <th>brand_id</th>\n",
       "      <td>0.139936</td>\n",
       "      <td>0.267783</td>\n",
       "      <td>1.000000</td>\n",
       "      <td>0.078926</td>\n",
       "      <td>0.039741</td>\n",
       "      <td>-0.001846</td>\n",
       "      <td>0.018347</td>\n",
       "      <td>NaN</td>\n",
       "      <td>0.005776</td>\n",
       "      <td>-0.008144</td>\n",
       "      <td>0.035254</td>\n",
       "      <td>-0.009503</td>\n",
       "      <td>0.145206</td>\n",
       "      <td>-0.003540</td>\n",
       "      <td>-0.035254</td>\n",
       "    </tr>\n",
       "    <tr>\n",
       "      <th>item_price</th>\n",
       "      <td>0.260892</td>\n",
       "      <td>0.401057</td>\n",
       "      <td>0.078926</td>\n",
       "      <td>1.000000</td>\n",
       "      <td>0.078013</td>\n",
       "      <td>-0.007987</td>\n",
       "      <td>0.145096</td>\n",
       "      <td>NaN</td>\n",
       "      <td>-0.000660</td>\n",
       "      <td>-0.010422</td>\n",
       "      <td>0.015035</td>\n",
       "      <td>-0.004854</td>\n",
       "      <td>0.272115</td>\n",
       "      <td>0.008331</td>\n",
       "      <td>-0.015035</td>\n",
       "    </tr>\n",
       "    <tr>\n",
       "      <th>user_id</th>\n",
       "      <td>0.206674</td>\n",
       "      <td>0.110002</td>\n",
       "      <td>0.039741</td>\n",
       "      <td>0.078013</td>\n",
       "      <td>1.000000</td>\n",
       "      <td>0.009193</td>\n",
       "      <td>-0.004467</td>\n",
       "      <td>NaN</td>\n",
       "      <td>0.013672</td>\n",
       "      <td>-0.007950</td>\n",
       "      <td>0.067792</td>\n",
       "      <td>0.131814</td>\n",
       "      <td>0.204615</td>\n",
       "      <td>-0.026947</td>\n",
       "      <td>-0.067792</td>\n",
       "    </tr>\n",
       "    <tr>\n",
       "      <th>user_state</th>\n",
       "      <td>0.011730</td>\n",
       "      <td>0.007287</td>\n",
       "      <td>-0.001846</td>\n",
       "      <td>-0.007987</td>\n",
       "      <td>0.009193</td>\n",
       "      <td>1.000000</td>\n",
       "      <td>-0.001778</td>\n",
       "      <td>NaN</td>\n",
       "      <td>0.003340</td>\n",
       "      <td>-0.023414</td>\n",
       "      <td>0.024419</td>\n",
       "      <td>-0.005175</td>\n",
       "      <td>0.012093</td>\n",
       "      <td>0.006383</td>\n",
       "      <td>-0.024419</td>\n",
       "    </tr>\n",
       "    <tr>\n",
       "      <th>return</th>\n",
       "      <td>0.016436</td>\n",
       "      <td>0.014509</td>\n",
       "      <td>0.018347</td>\n",
       "      <td>0.145096</td>\n",
       "      <td>-0.004467</td>\n",
       "      <td>-0.001778</td>\n",
       "      <td>1.000000</td>\n",
       "      <td>NaN</td>\n",
       "      <td>-0.006019</td>\n",
       "      <td>-0.003944</td>\n",
       "      <td>0.036407</td>\n",
       "      <td>-0.020725</td>\n",
       "      <td>0.019393</td>\n",
       "      <td>0.032343</td>\n",
       "      <td>-0.036407</td>\n",
       "    </tr>\n",
       "    <tr>\n",
       "      <th>order_year</th>\n",
       "      <td>NaN</td>\n",
       "      <td>NaN</td>\n",
       "      <td>NaN</td>\n",
       "      <td>NaN</td>\n",
       "      <td>NaN</td>\n",
       "      <td>NaN</td>\n",
       "      <td>NaN</td>\n",
       "      <td>NaN</td>\n",
       "      <td>NaN</td>\n",
       "      <td>NaN</td>\n",
       "      <td>NaN</td>\n",
       "      <td>NaN</td>\n",
       "      <td>NaN</td>\n",
       "      <td>NaN</td>\n",
       "      <td>NaN</td>\n",
       "    </tr>\n",
       "    <tr>\n",
       "      <th>user_dob_day</th>\n",
       "      <td>0.007004</td>\n",
       "      <td>0.008263</td>\n",
       "      <td>0.005776</td>\n",
       "      <td>-0.000660</td>\n",
       "      <td>0.013672</td>\n",
       "      <td>0.003340</td>\n",
       "      <td>-0.006019</td>\n",
       "      <td>NaN</td>\n",
       "      <td>1.000000</td>\n",
       "      <td>0.032018</td>\n",
       "      <td>-0.049040</td>\n",
       "      <td>0.011001</td>\n",
       "      <td>0.007254</td>\n",
       "      <td>-0.001656</td>\n",
       "      <td>0.049040</td>\n",
       "    </tr>\n",
       "    <tr>\n",
       "      <th>user_dob_month</th>\n",
       "      <td>-0.012756</td>\n",
       "      <td>-0.011358</td>\n",
       "      <td>-0.008144</td>\n",
       "      <td>-0.010422</td>\n",
       "      <td>-0.007950</td>\n",
       "      <td>-0.023414</td>\n",
       "      <td>-0.003944</td>\n",
       "      <td>NaN</td>\n",
       "      <td>0.032018</td>\n",
       "      <td>1.000000</td>\n",
       "      <td>-0.121558</td>\n",
       "      <td>-0.014344</td>\n",
       "      <td>-0.011549</td>\n",
       "      <td>-0.002410</td>\n",
       "      <td>0.121558</td>\n",
       "    </tr>\n",
       "    <tr>\n",
       "      <th>user_dob_year</th>\n",
       "      <td>0.031149</td>\n",
       "      <td>0.018587</td>\n",
       "      <td>0.035254</td>\n",
       "      <td>0.015035</td>\n",
       "      <td>0.067792</td>\n",
       "      <td>0.024419</td>\n",
       "      <td>0.036407</td>\n",
       "      <td>NaN</td>\n",
       "      <td>-0.049040</td>\n",
       "      <td>-0.121558</td>\n",
       "      <td>1.000000</td>\n",
       "      <td>0.112851</td>\n",
       "      <td>0.029317</td>\n",
       "      <td>-0.054001</td>\n",
       "      <td>-1.000000</td>\n",
       "    </tr>\n",
       "    <tr>\n",
       "      <th>user_reg_year</th>\n",
       "      <td>0.070840</td>\n",
       "      <td>-0.018445</td>\n",
       "      <td>-0.009503</td>\n",
       "      <td>-0.004854</td>\n",
       "      <td>0.131814</td>\n",
       "      <td>-0.005175</td>\n",
       "      <td>-0.020725</td>\n",
       "      <td>NaN</td>\n",
       "      <td>0.011001</td>\n",
       "      <td>-0.014344</td>\n",
       "      <td>0.112851</td>\n",
       "      <td>1.000000</td>\n",
       "      <td>0.066439</td>\n",
       "      <td>-0.028188</td>\n",
       "      <td>-0.112851</td>\n",
       "    </tr>\n",
       "    <tr>\n",
       "      <th>order_dayX</th>\n",
       "      <td>0.992312</td>\n",
       "      <td>0.616280</td>\n",
       "      <td>0.145206</td>\n",
       "      <td>0.272115</td>\n",
       "      <td>0.204615</td>\n",
       "      <td>0.012093</td>\n",
       "      <td>0.019393</td>\n",
       "      <td>NaN</td>\n",
       "      <td>0.007254</td>\n",
       "      <td>-0.011549</td>\n",
       "      <td>0.029317</td>\n",
       "      <td>0.066439</td>\n",
       "      <td>1.000000</td>\n",
       "      <td>0.022820</td>\n",
       "      <td>-0.029317</td>\n",
       "    </tr>\n",
       "    <tr>\n",
       "      <th>days_taken</th>\n",
       "      <td>0.022829</td>\n",
       "      <td>0.024119</td>\n",
       "      <td>-0.003540</td>\n",
       "      <td>0.008331</td>\n",
       "      <td>-0.026947</td>\n",
       "      <td>0.006383</td>\n",
       "      <td>0.032343</td>\n",
       "      <td>NaN</td>\n",
       "      <td>-0.001656</td>\n",
       "      <td>-0.002410</td>\n",
       "      <td>-0.054001</td>\n",
       "      <td>-0.028188</td>\n",
       "      <td>0.022820</td>\n",
       "      <td>1.000000</td>\n",
       "      <td>0.054001</td>\n",
       "    </tr>\n",
       "    <tr>\n",
       "      <th>Age_user</th>\n",
       "      <td>-0.031149</td>\n",
       "      <td>-0.018587</td>\n",
       "      <td>-0.035254</td>\n",
       "      <td>-0.015035</td>\n",
       "      <td>-0.067792</td>\n",
       "      <td>-0.024419</td>\n",
       "      <td>-0.036407</td>\n",
       "      <td>NaN</td>\n",
       "      <td>0.049040</td>\n",
       "      <td>0.121558</td>\n",
       "      <td>-1.000000</td>\n",
       "      <td>-0.112851</td>\n",
       "      <td>-0.029317</td>\n",
       "      <td>0.054001</td>\n",
       "      <td>1.000000</td>\n",
       "    </tr>\n",
       "  </tbody>\n",
       "</table>\n",
       "</div>"
      ],
      "text/plain": [
       "                order_item_id   item_id  brand_id  item_price   user_id  \\\n",
       "order_item_id        1.000000  0.596352  0.139936    0.260892  0.206674   \n",
       "item_id              0.596352  1.000000  0.267783    0.401057  0.110002   \n",
       "brand_id             0.139936  0.267783  1.000000    0.078926  0.039741   \n",
       "item_price           0.260892  0.401057  0.078926    1.000000  0.078013   \n",
       "user_id              0.206674  0.110002  0.039741    0.078013  1.000000   \n",
       "user_state           0.011730  0.007287 -0.001846   -0.007987  0.009193   \n",
       "return               0.016436  0.014509  0.018347    0.145096 -0.004467   \n",
       "order_year                NaN       NaN       NaN         NaN       NaN   \n",
       "user_dob_day         0.007004  0.008263  0.005776   -0.000660  0.013672   \n",
       "user_dob_month      -0.012756 -0.011358 -0.008144   -0.010422 -0.007950   \n",
       "user_dob_year        0.031149  0.018587  0.035254    0.015035  0.067792   \n",
       "user_reg_year        0.070840 -0.018445 -0.009503   -0.004854  0.131814   \n",
       "order_dayX           0.992312  0.616280  0.145206    0.272115  0.204615   \n",
       "days_taken           0.022829  0.024119 -0.003540    0.008331 -0.026947   \n",
       "Age_user            -0.031149 -0.018587 -0.035254   -0.015035 -0.067792   \n",
       "\n",
       "                user_state    return  order_year  user_dob_day  \\\n",
       "order_item_id     0.011730  0.016436         NaN      0.007004   \n",
       "item_id           0.007287  0.014509         NaN      0.008263   \n",
       "brand_id         -0.001846  0.018347         NaN      0.005776   \n",
       "item_price       -0.007987  0.145096         NaN     -0.000660   \n",
       "user_id           0.009193 -0.004467         NaN      0.013672   \n",
       "user_state        1.000000 -0.001778         NaN      0.003340   \n",
       "return           -0.001778  1.000000         NaN     -0.006019   \n",
       "order_year             NaN       NaN         NaN           NaN   \n",
       "user_dob_day      0.003340 -0.006019         NaN      1.000000   \n",
       "user_dob_month   -0.023414 -0.003944         NaN      0.032018   \n",
       "user_dob_year     0.024419  0.036407         NaN     -0.049040   \n",
       "user_reg_year    -0.005175 -0.020725         NaN      0.011001   \n",
       "order_dayX        0.012093  0.019393         NaN      0.007254   \n",
       "days_taken        0.006383  0.032343         NaN     -0.001656   \n",
       "Age_user         -0.024419 -0.036407         NaN      0.049040   \n",
       "\n",
       "                user_dob_month  user_dob_year  user_reg_year  order_dayX  \\\n",
       "order_item_id        -0.012756       0.031149       0.070840    0.992312   \n",
       "item_id              -0.011358       0.018587      -0.018445    0.616280   \n",
       "brand_id             -0.008144       0.035254      -0.009503    0.145206   \n",
       "item_price           -0.010422       0.015035      -0.004854    0.272115   \n",
       "user_id              -0.007950       0.067792       0.131814    0.204615   \n",
       "user_state           -0.023414       0.024419      -0.005175    0.012093   \n",
       "return               -0.003944       0.036407      -0.020725    0.019393   \n",
       "order_year                 NaN            NaN            NaN         NaN   \n",
       "user_dob_day          0.032018      -0.049040       0.011001    0.007254   \n",
       "user_dob_month        1.000000      -0.121558      -0.014344   -0.011549   \n",
       "user_dob_year        -0.121558       1.000000       0.112851    0.029317   \n",
       "user_reg_year        -0.014344       0.112851       1.000000    0.066439   \n",
       "order_dayX           -0.011549       0.029317       0.066439    1.000000   \n",
       "days_taken           -0.002410      -0.054001      -0.028188    0.022820   \n",
       "Age_user              0.121558      -1.000000      -0.112851   -0.029317   \n",
       "\n",
       "                days_taken  Age_user  \n",
       "order_item_id     0.022829 -0.031149  \n",
       "item_id           0.024119 -0.018587  \n",
       "brand_id         -0.003540 -0.035254  \n",
       "item_price        0.008331 -0.015035  \n",
       "user_id          -0.026947 -0.067792  \n",
       "user_state        0.006383 -0.024419  \n",
       "return            0.032343 -0.036407  \n",
       "order_year             NaN       NaN  \n",
       "user_dob_day     -0.001656  0.049040  \n",
       "user_dob_month   -0.002410  0.121558  \n",
       "user_dob_year    -0.054001 -1.000000  \n",
       "user_reg_year    -0.028188 -0.112851  \n",
       "order_dayX        0.022820 -0.029317  \n",
       "days_taken        1.000000  0.054001  \n",
       "Age_user          0.054001  1.000000  "
      ]
     },
     "execution_count": 29,
     "metadata": {},
     "output_type": "execute_result"
    }
   ],
   "source": [
    "df.corr()"
   ]
  },
  {
   "cell_type": "code",
   "execution_count": null,
   "id": "a3a28387",
   "metadata": {},
   "outputs": [],
   "source": []
  },
  {
   "cell_type": "markdown",
   "id": "97a7a6ec",
   "metadata": {},
   "source": [
    "# Checking the skewness of the data and taking care of it"
   ]
  },
  {
   "cell_type": "code",
   "execution_count": 30,
   "id": "4a33475e",
   "metadata": {},
   "outputs": [
    {
     "name": "stderr",
     "output_type": "stream",
     "text": [
      "C:\\Users\\acer\\AppData\\Local\\Temp/ipykernel_5324/1665899112.py:1: FutureWarning: Dropping of nuisance columns in DataFrame reductions (with 'numeric_only=None') is deprecated; in a future version this will raise TypeError.  Select only valid columns before calling the reduction.\n",
      "  df.skew()\n"
     ]
    },
    {
     "data": {
      "text/plain": [
       "order_item_id    -0.057681\n",
       "item_id           0.002537\n",
       "brand_id          1.244636\n",
       "item_price        1.790672\n",
       "user_id          -0.337820\n",
       "user_state       -0.006920\n",
       "return           -0.024609\n",
       "order_year        0.000000\n",
       "user_dob_day     -0.026763\n",
       "user_dob_month    0.010466\n",
       "user_dob_year    -2.235438\n",
       "user_reg_year     0.277541\n",
       "order_dayX       -0.056848\n",
       "days_taken       -9.079518\n",
       "Age_user          2.235438\n",
       "dtype: float64"
      ]
     },
     "execution_count": 30,
     "metadata": {},
     "output_type": "execute_result"
    }
   ],
   "source": [
    "df.skew()"
   ]
  },
  {
   "cell_type": "code",
   "execution_count": 31,
   "id": "f65b727b",
   "metadata": {},
   "outputs": [
    {
     "name": "stderr",
     "output_type": "stream",
     "text": [
      "C:\\Users\\acer\\anaconda3\\lib\\site-packages\\pandas\\core\\arraylike.py:364: RuntimeWarning: divide by zero encountered in log\n",
      "  result = getattr(ufunc, method)(*inputs, **kwargs)\n",
      "C:\\Users\\acer\\anaconda3\\lib\\site-packages\\pandas\\core\\arraylike.py:364: RuntimeWarning: invalid value encountered in log\n",
      "  result = getattr(ufunc, method)(*inputs, **kwargs)\n"
     ]
    }
   ],
   "source": [
    "days_log=np.log(df[\"days_taken\"])"
   ]
  },
  {
   "cell_type": "code",
   "execution_count": 32,
   "id": "2908a60f",
   "metadata": {},
   "outputs": [
    {
     "data": {
      "text/plain": [
       "nan"
      ]
     },
     "execution_count": 32,
     "metadata": {},
     "output_type": "execute_result"
    }
   ],
   "source": [
    "days_log.skew()"
   ]
  },
  {
   "cell_type": "code",
   "execution_count": 33,
   "id": "b99fe5f8",
   "metadata": {},
   "outputs": [
    {
     "name": "stderr",
     "output_type": "stream",
     "text": [
      "C:\\Users\\acer\\anaconda3\\lib\\site-packages\\pandas\\core\\arraylike.py:364: RuntimeWarning: invalid value encountered in sqrt\n",
      "  result = getattr(ufunc, method)(*inputs, **kwargs)\n"
     ]
    }
   ],
   "source": [
    "days_sqrt=np.sqrt(df[\"days_taken\"])"
   ]
  },
  {
   "cell_type": "code",
   "execution_count": 34,
   "id": "637e6641",
   "metadata": {},
   "outputs": [
    {
     "data": {
      "text/plain": [
       "2.3563355939802006"
      ]
     },
     "execution_count": 34,
     "metadata": {},
     "output_type": "execute_result"
    }
   ],
   "source": [
    "days_sqrt.skew()"
   ]
  },
  {
   "cell_type": "code",
   "execution_count": 35,
   "id": "fc4fa59a",
   "metadata": {},
   "outputs": [],
   "source": [
    "df[\"days_taken\"]=days_sqrt"
   ]
  },
  {
   "cell_type": "code",
   "execution_count": 36,
   "id": "f9aed0b1",
   "metadata": {},
   "outputs": [],
   "source": [
    "size_box=stats.boxcox(df[\"Age_user\"])[0]"
   ]
  },
  {
   "cell_type": "code",
   "execution_count": 37,
   "id": "0fa6334a",
   "metadata": {},
   "outputs": [
    {
     "data": {
      "text/plain": [
       "0.014159182721012319"
      ]
     },
     "execution_count": 37,
     "metadata": {},
     "output_type": "execute_result"
    }
   ],
   "source": [
    "pd.Series(size_box).skew()"
   ]
  },
  {
   "cell_type": "code",
   "execution_count": 38,
   "id": "a421cf05",
   "metadata": {},
   "outputs": [],
   "source": [
    "df[\"Age_user\"]=size_box"
   ]
  },
  {
   "cell_type": "code",
   "execution_count": 39,
   "id": "20359ee9",
   "metadata": {},
   "outputs": [],
   "source": [
    "brand_log=np.log(df[\"brand_id\"])"
   ]
  },
  {
   "cell_type": "code",
   "execution_count": 40,
   "id": "774f1754",
   "metadata": {},
   "outputs": [
    {
     "data": {
      "text/plain": [
       "-0.6469658366530914"
      ]
     },
     "execution_count": 40,
     "metadata": {},
     "output_type": "execute_result"
    }
   ],
   "source": [
    "brand_log.skew()"
   ]
  },
  {
   "cell_type": "code",
   "execution_count": 41,
   "id": "17e8a140",
   "metadata": {},
   "outputs": [],
   "source": [
    "brand_sqrt=np.sqrt(df[\"brand_id\"])"
   ]
  },
  {
   "cell_type": "code",
   "execution_count": 42,
   "id": "1a2fa0c6",
   "metadata": {},
   "outputs": [
    {
     "data": {
      "text/plain": [
       "0.27436473830711194"
      ]
     },
     "execution_count": 42,
     "metadata": {},
     "output_type": "execute_result"
    }
   ],
   "source": [
    "brand_sqrt.skew()"
   ]
  },
  {
   "cell_type": "code",
   "execution_count": 43,
   "id": "de48b930",
   "metadata": {},
   "outputs": [],
   "source": [
    "brand_box=stats.boxcox(df[\"brand_id\"])[0]"
   ]
  },
  {
   "cell_type": "code",
   "execution_count": 44,
   "id": "aa41179f",
   "metadata": {},
   "outputs": [
    {
     "data": {
      "text/plain": [
       "-0.1400798886149885"
      ]
     },
     "execution_count": 44,
     "metadata": {},
     "output_type": "execute_result"
    }
   ],
   "source": [
    "pd.Series(brand_box).skew()"
   ]
  },
  {
   "cell_type": "code",
   "execution_count": 45,
   "id": "35509bd7",
   "metadata": {},
   "outputs": [],
   "source": [
    "df[\"brand_id\"]=brand_box"
   ]
  },
  {
   "cell_type": "code",
   "execution_count": 46,
   "id": "8c2f2dda",
   "metadata": {},
   "outputs": [],
   "source": [
    "price_log=np.log(df[\"item_price\"])"
   ]
  },
  {
   "cell_type": "code",
   "execution_count": 47,
   "id": "e35f1aa7",
   "metadata": {},
   "outputs": [
    {
     "data": {
      "text/plain": [
       "nan"
      ]
     },
     "execution_count": 47,
     "metadata": {},
     "output_type": "execute_result"
    }
   ],
   "source": [
    "price_log.skew()"
   ]
  },
  {
   "cell_type": "code",
   "execution_count": 48,
   "id": "b3d24bd5",
   "metadata": {},
   "outputs": [],
   "source": [
    "price_sqrt=np.sqrt(df[\"item_price\"])"
   ]
  },
  {
   "cell_type": "code",
   "execution_count": 49,
   "id": "6bbe8572",
   "metadata": {},
   "outputs": [
    {
     "data": {
      "text/plain": [
       "0.6926757408674893"
      ]
     },
     "execution_count": 49,
     "metadata": {},
     "output_type": "execute_result"
    }
   ],
   "source": [
    "price_sqrt.skew()"
   ]
  },
  {
   "cell_type": "code",
   "execution_count": 50,
   "id": "6e2b0142",
   "metadata": {},
   "outputs": [],
   "source": [
    "df[\"item_price\"]=price_sqrt"
   ]
  },
  {
   "cell_type": "code",
   "execution_count": 51,
   "id": "374e0502",
   "metadata": {},
   "outputs": [
    {
     "name": "stderr",
     "output_type": "stream",
     "text": [
      "C:\\Users\\acer\\AppData\\Local\\Temp/ipykernel_5324/1665899112.py:1: FutureWarning: Dropping of nuisance columns in DataFrame reductions (with 'numeric_only=None') is deprecated; in a future version this will raise TypeError.  Select only valid columns before calling the reduction.\n",
      "  df.skew()\n"
     ]
    },
    {
     "data": {
      "text/plain": [
       "order_item_id    -0.057681\n",
       "item_id           0.002537\n",
       "brand_id         -0.140080\n",
       "item_price        0.692676\n",
       "user_id          -0.337820\n",
       "user_state       -0.006920\n",
       "return           -0.024609\n",
       "order_year        0.000000\n",
       "user_dob_day     -0.026763\n",
       "user_dob_month    0.010466\n",
       "user_dob_year    -2.235438\n",
       "user_reg_year     0.277541\n",
       "order_dayX       -0.056848\n",
       "days_taken        2.356336\n",
       "Age_user          0.014159\n",
       "dtype: float64"
      ]
     },
     "execution_count": 51,
     "metadata": {},
     "output_type": "execute_result"
    }
   ],
   "source": [
    "df.skew()"
   ]
  },
  {
   "cell_type": "code",
   "execution_count": null,
   "id": "750db63b",
   "metadata": {},
   "outputs": [],
   "source": []
  },
  {
   "cell_type": "markdown",
   "id": "fb238cac",
   "metadata": {},
   "source": [
    "# Creating histogram"
   ]
  },
  {
   "cell_type": "code",
   "execution_count": 52,
   "id": "deef375b",
   "metadata": {},
   "outputs": [
    {
     "data": {
      "text/plain": [
       "array([[<AxesSubplot:title={'center':'order_item_id'}>,\n",
       "        <AxesSubplot:title={'center':'item_id'}>,\n",
       "        <AxesSubplot:title={'center':'brand_id'}>,\n",
       "        <AxesSubplot:title={'center':'item_price'}>],\n",
       "       [<AxesSubplot:title={'center':'user_id'}>,\n",
       "        <AxesSubplot:title={'center':'user_state'}>,\n",
       "        <AxesSubplot:title={'center':'return'}>,\n",
       "        <AxesSubplot:title={'center':'order_year'}>],\n",
       "       [<AxesSubplot:title={'center':'user_dob_day'}>,\n",
       "        <AxesSubplot:title={'center':'user_dob_month'}>,\n",
       "        <AxesSubplot:title={'center':'user_dob_year'}>,\n",
       "        <AxesSubplot:title={'center':'user_reg_year'}>],\n",
       "       [<AxesSubplot:title={'center':'order_dayX'}>,\n",
       "        <AxesSubplot:title={'center':'days_taken'}>,\n",
       "        <AxesSubplot:title={'center':'Age_user'}>, <AxesSubplot:>]],\n",
       "      dtype=object)"
      ]
     },
     "execution_count": 52,
     "metadata": {},
     "output_type": "execute_result"
    },
    {
     "data": {
      "image/png": "[encoded data removed]",
      "text/plain": [
       "<Figure size 1440x1080 with 16 Axes>"
      ]
     },
     "metadata": {
      "needs_background": "light"
     },
     "output_type": "display_data"
    }
   ],
   "source": [
    "df.hist(bins=50,figsize=(20,15))"
   ]
  },
  {
   "cell_type": "code",
   "execution_count": 53,
   "id": "28da29f7",
   "metadata": {},
   "outputs": [
    {
     "data": {
      "text/plain": [
       "order_item_id       0\n",
       "order_date          0\n",
       "delivery_date       0\n",
       "item_id             0\n",
       "item_size           0\n",
       "item_color          0\n",
       "brand_id            0\n",
       "item_price          0\n",
       "user_id             0\n",
       "user_dob            0\n",
       "user_state          0\n",
       "return              0\n",
       "order_year          0\n",
       "user_dob_day        0\n",
       "user_dob_month      0\n",
       "user_dob_year       0\n",
       "user_reg_year       0\n",
       "order_dayX          0\n",
       "days_taken        774\n",
       "Age_user            0\n",
       "dtype: int64"
      ]
     },
     "execution_count": 53,
     "metadata": {},
     "output_type": "execute_result"
    }
   ],
   "source": [
    "# checking any null values \n",
    "df.isnull().sum()"
   ]
  },
  {
   "cell_type": "code",
   "execution_count": 54,
   "id": "a765d19d",
   "metadata": {},
   "outputs": [],
   "source": [
    "#Dropping the nan values\n",
    "df.dropna(inplace=True)"
   ]
  },
  {
   "cell_type": "code",
   "execution_count": null,
   "id": "2e38ccde",
   "metadata": {},
   "outputs": [],
   "source": []
  },
  {
   "cell_type": "markdown",
   "id": "78c85cb8",
   "metadata": {},
   "source": [
    "# Using RareLabelEncoder in item_color and item_size\n",
    "- RareLabelEncode:-RareLabelCategoricalEncoder() groups rare / infrequent categories in a new category called “Rare”."
   ]
  },
  {
   "cell_type": "code",
   "execution_count": 55,
   "id": "3ffee472",
   "metadata": {},
   "outputs": [
    {
     "data": {
      "text/plain": [
       "{'item_color': Index(['black', 'blue', 'grey', 'brown', 'red', 'green'], dtype='object')}"
      ]
     },
     "execution_count": 55,
     "metadata": {},
     "output_type": "execute_result"
    }
   ],
   "source": [
    "#Using RareLbelEncoding for item_color\n",
    "encoder = RareLabelEncoder(tol=0.05, n_categories=10, variables=[ 'item_color'],\n",
    "                         replace_with='Rare')\n",
    "\n",
    "encoder.fit(df)\n",
    "\n",
    "dataset = encoder.fit_transform(df)\n",
    "\n",
    "encoder.encoder_dict_"
   ]
  },
  {
   "cell_type": "code",
   "execution_count": 56,
   "id": "25e1cd39",
   "metadata": {},
   "outputs": [
    {
     "data": {
      "text/html": [
       "<div>\n",
       "<style scoped>\n",
       "    .dataframe tbody tr th:only-of-type {\n",
       "        vertical-align: middle;\n",
       "    }\n",
       "\n",
       "    .dataframe tbody tr th {\n",
       "        vertical-align: top;\n",
       "    }\n",
       "\n",
       "    .dataframe thead th {\n",
       "        text-align: right;\n",
       "    }\n",
       "</style>\n",
       "<table border=\"1\" class=\"dataframe\">\n",
       "  <thead>\n",
       "    <tr style=\"text-align: right;\">\n",
       "      <th></th>\n",
       "      <th>order_item_id</th>\n",
       "      <th>order_date</th>\n",
       "      <th>delivery_date</th>\n",
       "      <th>item_id</th>\n",
       "      <th>item_size</th>\n",
       "      <th>item_color</th>\n",
       "      <th>brand_id</th>\n",
       "      <th>item_price</th>\n",
       "      <th>user_id</th>\n",
       "      <th>user_dob</th>\n",
       "      <th>user_state</th>\n",
       "      <th>return</th>\n",
       "      <th>order_year</th>\n",
       "      <th>user_dob_day</th>\n",
       "      <th>user_dob_month</th>\n",
       "      <th>user_dob_year</th>\n",
       "      <th>user_reg_year</th>\n",
       "      <th>order_dayX</th>\n",
       "      <th>days_taken</th>\n",
       "      <th>Age_user</th>\n",
       "    </tr>\n",
       "  </thead>\n",
       "  <tbody>\n",
       "    <tr>\n",
       "      <th>0</th>\n",
       "      <td>1</td>\n",
       "      <td>22-06-2016</td>\n",
       "      <td>27-06-2016</td>\n",
       "      <td>643</td>\n",
       "      <td>38</td>\n",
       "      <td>Rare</td>\n",
       "      <td>5.681034</td>\n",
       "      <td>7.063993</td>\n",
       "      <td>30822</td>\n",
       "      <td>17-04-1969</td>\n",
       "      <td>1013</td>\n",
       "      <td>0</td>\n",
       "      <td>2016</td>\n",
       "      <td>17</td>\n",
       "      <td>4</td>\n",
       "      <td>1969</td>\n",
       "      <td>2016</td>\n",
       "      <td>736042</td>\n",
       "      <td>2.236068</td>\n",
       "      <td>4.057076</td>\n",
       "    </tr>\n",
       "    <tr>\n",
       "      <th>1</th>\n",
       "      <td>10</td>\n",
       "      <td>22-06-2016</td>\n",
       "      <td>27-06-2016</td>\n",
       "      <td>195</td>\n",
       "      <td>xxl</td>\n",
       "      <td>grey</td>\n",
       "      <td>6.856435</td>\n",
       "      <td>4.460942</td>\n",
       "      <td>30823</td>\n",
       "      <td>22-04-1970</td>\n",
       "      <td>1001</td>\n",
       "      <td>1</td>\n",
       "      <td>2016</td>\n",
       "      <td>22</td>\n",
       "      <td>4</td>\n",
       "      <td>1970</td>\n",
       "      <td>2015</td>\n",
       "      <td>736042</td>\n",
       "      <td>2.236068</td>\n",
       "      <td>4.033224</td>\n",
       "    </tr>\n",
       "    <tr>\n",
       "      <th>2</th>\n",
       "      <td>11</td>\n",
       "      <td>22-06-2016</td>\n",
       "      <td>05-07-2016</td>\n",
       "      <td>25</td>\n",
       "      <td>xxl</td>\n",
       "      <td>grey</td>\n",
       "      <td>2.032688</td>\n",
       "      <td>8.938680</td>\n",
       "      <td>30823</td>\n",
       "      <td>22-04-1970</td>\n",
       "      <td>1001</td>\n",
       "      <td>0</td>\n",
       "      <td>2016</td>\n",
       "      <td>22</td>\n",
       "      <td>4</td>\n",
       "      <td>1970</td>\n",
       "      <td>2015</td>\n",
       "      <td>736042</td>\n",
       "      <td>3.605551</td>\n",
       "      <td>4.033224</td>\n",
       "    </tr>\n",
       "    <tr>\n",
       "      <th>3</th>\n",
       "      <td>32</td>\n",
       "      <td>23-06-2016</td>\n",
       "      <td>26-06-2016</td>\n",
       "      <td>173</td>\n",
       "      <td>m</td>\n",
       "      <td>brown</td>\n",
       "      <td>4.688708</td>\n",
       "      <td>4.460942</td>\n",
       "      <td>17234</td>\n",
       "      <td>09-01-1960</td>\n",
       "      <td>1013</td>\n",
       "      <td>0</td>\n",
       "      <td>2016</td>\n",
       "      <td>9</td>\n",
       "      <td>1</td>\n",
       "      <td>1960</td>\n",
       "      <td>2015</td>\n",
       "      <td>736043</td>\n",
       "      <td>1.732051</td>\n",
       "      <td>4.251904</td>\n",
       "    </tr>\n",
       "    <tr>\n",
       "      <th>5</th>\n",
       "      <td>45</td>\n",
       "      <td>23-06-2016</td>\n",
       "      <td>26-06-2016</td>\n",
       "      <td>448</td>\n",
       "      <td>42</td>\n",
       "      <td>Rare</td>\n",
       "      <td>8.248948</td>\n",
       "      <td>7.739509</td>\n",
       "      <td>30828</td>\n",
       "      <td>13-05-1966</td>\n",
       "      <td>1008</td>\n",
       "      <td>1</td>\n",
       "      <td>2016</td>\n",
       "      <td>13</td>\n",
       "      <td>5</td>\n",
       "      <td>1966</td>\n",
       "      <td>2016</td>\n",
       "      <td>736043</td>\n",
       "      <td>1.732051</td>\n",
       "      <td>4.125776</td>\n",
       "    </tr>\n",
       "  </tbody>\n",
       "</table>\n",
       "</div>"
      ],
      "text/plain": [
       "   order_item_id  order_date delivery_date  item_id item_size item_color  \\\n",
       "0              1  22-06-2016    27-06-2016      643        38       Rare   \n",
       "1             10  22-06-2016    27-06-2016      195       xxl       grey   \n",
       "2             11  22-06-2016    05-07-2016       25       xxl       grey   \n",
       "3             32  23-06-2016    26-06-2016      173         m      brown   \n",
       "5             45  23-06-2016    26-06-2016      448        42       Rare   \n",
       "\n",
       "   brand_id  item_price  user_id    user_dob  user_state  return  order_year  \\\n",
       "0  5.681034    7.063993    30822  17-04-1969        1013       0        2016   \n",
       "1  6.856435    4.460942    30823  22-04-1970        1001       1        2016   \n",
       "2  2.032688    8.938680    30823  22-04-1970        1001       0        2016   \n",
       "3  4.688708    4.460942    17234  09-01-1960        1013       0        2016   \n",
       "5  8.248948    7.739509    30828  13-05-1966        1008       1        2016   \n",
       "\n",
       "   user_dob_day  user_dob_month  user_dob_year  user_reg_year  order_dayX  \\\n",
       "0            17               4           1969           2016      736042   \n",
       "1            22               4           1970           2015      736042   \n",
       "2            22               4           1970           2015      736042   \n",
       "3             9               1           1960           2015      736043   \n",
       "5            13               5           1966           2016      736043   \n",
       "\n",
       "   days_taken  Age_user  \n",
       "0    2.236068  4.057076  \n",
       "1    2.236068  4.033224  \n",
       "2    3.605551  4.033224  \n",
       "3    1.732051  4.251904  \n",
       "5    1.732051  4.125776  "
      ]
     },
     "execution_count": 56,
     "metadata": {},
     "output_type": "execute_result"
    }
   ],
   "source": [
    "dataset.head()"
   ]
  },
  {
   "cell_type": "code",
   "execution_count": 57,
   "id": "b38cbd2d",
   "metadata": {},
   "outputs": [
    {
     "data": {
      "text/plain": [
       "{'item_size': Index(['l', 'xl', 'm', 'xxl', '40', '39', '38', 'unsized'], dtype='object')}"
      ]
     },
     "execution_count": 57,
     "metadata": {},
     "output_type": "execute_result"
    }
   ],
   "source": [
    "#Using RareLbelEncoding for item_size\n",
    "encoder = RareLabelEncoder(tol=0.05, n_categories=10, variables=['item_size'],\n",
    "                         replace_with='Rare')\n",
    "\n",
    "\n",
    "encoder.fit(dataset)\n",
    "\n",
    "\n",
    "dataset1 = encoder.fit_transform(dataset)\n",
    "\n",
    "encoder.encoder_dict_"
   ]
  },
  {
   "cell_type": "code",
   "execution_count": null,
   "id": "33bd6f41",
   "metadata": {},
   "outputs": [],
   "source": []
  },
  {
   "cell_type": "code",
   "execution_count": 58,
   "id": "f60984c5",
   "metadata": {},
   "outputs": [
    {
     "data": {
      "text/html": [
       "<div>\n",
       "<style scoped>\n",
       "    .dataframe tbody tr th:only-of-type {\n",
       "        vertical-align: middle;\n",
       "    }\n",
       "\n",
       "    .dataframe tbody tr th {\n",
       "        vertical-align: top;\n",
       "    }\n",
       "\n",
       "    .dataframe thead th {\n",
       "        text-align: right;\n",
       "    }\n",
       "</style>\n",
       "<table border=\"1\" class=\"dataframe\">\n",
       "  <thead>\n",
       "    <tr style=\"text-align: right;\">\n",
       "      <th></th>\n",
       "      <th>order_item_id</th>\n",
       "      <th>order_date</th>\n",
       "      <th>delivery_date</th>\n",
       "      <th>item_id</th>\n",
       "      <th>item_size</th>\n",
       "      <th>item_color</th>\n",
       "      <th>brand_id</th>\n",
       "      <th>item_price</th>\n",
       "      <th>user_id</th>\n",
       "      <th>user_dob</th>\n",
       "      <th>user_state</th>\n",
       "      <th>return</th>\n",
       "      <th>order_year</th>\n",
       "      <th>user_dob_day</th>\n",
       "      <th>user_dob_month</th>\n",
       "      <th>user_dob_year</th>\n",
       "      <th>user_reg_year</th>\n",
       "      <th>order_dayX</th>\n",
       "      <th>days_taken</th>\n",
       "      <th>Age_user</th>\n",
       "    </tr>\n",
       "  </thead>\n",
       "  <tbody>\n",
       "    <tr>\n",
       "      <th>0</th>\n",
       "      <td>1</td>\n",
       "      <td>22-06-2016</td>\n",
       "      <td>27-06-2016</td>\n",
       "      <td>643</td>\n",
       "      <td>38</td>\n",
       "      <td>Rare</td>\n",
       "      <td>5.681034</td>\n",
       "      <td>7.063993</td>\n",
       "      <td>30822</td>\n",
       "      <td>17-04-1969</td>\n",
       "      <td>1013</td>\n",
       "      <td>0</td>\n",
       "      <td>2016</td>\n",
       "      <td>17</td>\n",
       "      <td>4</td>\n",
       "      <td>1969</td>\n",
       "      <td>2016</td>\n",
       "      <td>736042</td>\n",
       "      <td>2.236068</td>\n",
       "      <td>4.057076</td>\n",
       "    </tr>\n",
       "    <tr>\n",
       "      <th>1</th>\n",
       "      <td>10</td>\n",
       "      <td>22-06-2016</td>\n",
       "      <td>27-06-2016</td>\n",
       "      <td>195</td>\n",
       "      <td>xxl</td>\n",
       "      <td>grey</td>\n",
       "      <td>6.856435</td>\n",
       "      <td>4.460942</td>\n",
       "      <td>30823</td>\n",
       "      <td>22-04-1970</td>\n",
       "      <td>1001</td>\n",
       "      <td>1</td>\n",
       "      <td>2016</td>\n",
       "      <td>22</td>\n",
       "      <td>4</td>\n",
       "      <td>1970</td>\n",
       "      <td>2015</td>\n",
       "      <td>736042</td>\n",
       "      <td>2.236068</td>\n",
       "      <td>4.033224</td>\n",
       "    </tr>\n",
       "    <tr>\n",
       "      <th>2</th>\n",
       "      <td>11</td>\n",
       "      <td>22-06-2016</td>\n",
       "      <td>05-07-2016</td>\n",
       "      <td>25</td>\n",
       "      <td>xxl</td>\n",
       "      <td>grey</td>\n",
       "      <td>2.032688</td>\n",
       "      <td>8.938680</td>\n",
       "      <td>30823</td>\n",
       "      <td>22-04-1970</td>\n",
       "      <td>1001</td>\n",
       "      <td>0</td>\n",
       "      <td>2016</td>\n",
       "      <td>22</td>\n",
       "      <td>4</td>\n",
       "      <td>1970</td>\n",
       "      <td>2015</td>\n",
       "      <td>736042</td>\n",
       "      <td>3.605551</td>\n",
       "      <td>4.033224</td>\n",
       "    </tr>\n",
       "    <tr>\n",
       "      <th>3</th>\n",
       "      <td>32</td>\n",
       "      <td>23-06-2016</td>\n",
       "      <td>26-06-2016</td>\n",
       "      <td>173</td>\n",
       "      <td>m</td>\n",
       "      <td>brown</td>\n",
       "      <td>4.688708</td>\n",
       "      <td>4.460942</td>\n",
       "      <td>17234</td>\n",
       "      <td>09-01-1960</td>\n",
       "      <td>1013</td>\n",
       "      <td>0</td>\n",
       "      <td>2016</td>\n",
       "      <td>9</td>\n",
       "      <td>1</td>\n",
       "      <td>1960</td>\n",
       "      <td>2015</td>\n",
       "      <td>736043</td>\n",
       "      <td>1.732051</td>\n",
       "      <td>4.251904</td>\n",
       "    </tr>\n",
       "    <tr>\n",
       "      <th>5</th>\n",
       "      <td>45</td>\n",
       "      <td>23-06-2016</td>\n",
       "      <td>26-06-2016</td>\n",
       "      <td>448</td>\n",
       "      <td>Rare</td>\n",
       "      <td>Rare</td>\n",
       "      <td>8.248948</td>\n",
       "      <td>7.739509</td>\n",
       "      <td>30828</td>\n",
       "      <td>13-05-1966</td>\n",
       "      <td>1008</td>\n",
       "      <td>1</td>\n",
       "      <td>2016</td>\n",
       "      <td>13</td>\n",
       "      <td>5</td>\n",
       "      <td>1966</td>\n",
       "      <td>2016</td>\n",
       "      <td>736043</td>\n",
       "      <td>1.732051</td>\n",
       "      <td>4.125776</td>\n",
       "    </tr>\n",
       "  </tbody>\n",
       "</table>\n",
       "</div>"
      ],
      "text/plain": [
       "   order_item_id  order_date delivery_date  item_id item_size item_color  \\\n",
       "0              1  22-06-2016    27-06-2016      643        38       Rare   \n",
       "1             10  22-06-2016    27-06-2016      195       xxl       grey   \n",
       "2             11  22-06-2016    05-07-2016       25       xxl       grey   \n",
       "3             32  23-06-2016    26-06-2016      173         m      brown   \n",
       "5             45  23-06-2016    26-06-2016      448      Rare       Rare   \n",
       "\n",
       "   brand_id  item_price  user_id    user_dob  user_state  return  order_year  \\\n",
       "0  5.681034    7.063993    30822  17-04-1969        1013       0        2016   \n",
       "1  6.856435    4.460942    30823  22-04-1970        1001       1        2016   \n",
       "2  2.032688    8.938680    30823  22-04-1970        1001       0        2016   \n",
       "3  4.688708    4.460942    17234  09-01-1960        1013       0        2016   \n",
       "5  8.248948    7.739509    30828  13-05-1966        1008       1        2016   \n",
       "\n",
       "   user_dob_day  user_dob_month  user_dob_year  user_reg_year  order_dayX  \\\n",
       "0            17               4           1969           2016      736042   \n",
       "1            22               4           1970           2015      736042   \n",
       "2            22               4           1970           2015      736042   \n",
       "3             9               1           1960           2015      736043   \n",
       "5            13               5           1966           2016      736043   \n",
       "\n",
       "   days_taken  Age_user  \n",
       "0    2.236068  4.057076  \n",
       "1    2.236068  4.033224  \n",
       "2    3.605551  4.033224  \n",
       "3    1.732051  4.251904  \n",
       "5    1.732051  4.125776  "
      ]
     },
     "execution_count": 58,
     "metadata": {},
     "output_type": "execute_result"
    }
   ],
   "source": [
    "dataset1.head()"
   ]
  },
  {
   "cell_type": "code",
   "execution_count": null,
   "id": "ff5a7dd9",
   "metadata": {},
   "outputs": [],
   "source": []
  },
  {
   "cell_type": "markdown",
   "id": "6c6013e6",
   "metadata": {},
   "source": [
    "# Visulization of catagorical feature item_color and item_size"
   ]
  },
  {
   "cell_type": "code",
   "execution_count": 59,
   "id": "1e66364f",
   "metadata": {},
   "outputs": [
    {
     "name": "stderr",
     "output_type": "stream",
     "text": [
      "C:\\Users\\acer\\anaconda3\\lib\\site-packages\\seaborn\\_decorators.py:36: FutureWarning: Pass the following variable as a keyword arg: x. From version 0.12, the only valid positional argument will be `data`, and passing other arguments without an explicit keyword will result in an error or misinterpretation.\n",
      "  warnings.warn(\n"
     ]
    },
    {
     "data": {
      "text/plain": [
       "<AxesSubplot:xlabel='item_size', ylabel='count'>"
      ]
     },
     "execution_count": 59,
     "metadata": {},
     "output_type": "execute_result"
    },
    {
     "data": {
      "image/png": "[encoded data removed]",
      "text/plain": [
       "<Figure size 432x288 with 1 Axes>"
      ]
     },
     "metadata": {
      "needs_background": "light"
     },
     "output_type": "display_data"
    }
   ],
   "source": [
    "sns.countplot(dataset1.item_size)"
   ]
  },
  {
   "cell_type": "code",
   "execution_count": 60,
   "id": "d60f1982",
   "metadata": {},
   "outputs": [
    {
     "name": "stderr",
     "output_type": "stream",
     "text": [
      "C:\\Users\\acer\\anaconda3\\lib\\site-packages\\seaborn\\_decorators.py:36: FutureWarning: Pass the following variable as a keyword arg: x. From version 0.12, the only valid positional argument will be `data`, and passing other arguments without an explicit keyword will result in an error or misinterpretation.\n",
      "  warnings.warn(\n"
     ]
    },
    {
     "data": {
      "text/plain": [
       "<AxesSubplot:xlabel='item_color', ylabel='count'>"
      ]
     },
     "execution_count": 60,
     "metadata": {},
     "output_type": "execute_result"
    },
    {
     "data": {
      "image/png": "[encoded data removed]",
      "text/plain": [
       "<Figure size 432x288 with 1 Axes>"
      ]
     },
     "metadata": {
      "needs_background": "light"
     },
     "output_type": "display_data"
    }
   ],
   "source": [
    "sns.countplot(dataset1.item_color)"
   ]
  },
  {
   "cell_type": "code",
   "execution_count": null,
   "id": "67f00406",
   "metadata": {},
   "outputs": [],
   "source": []
  },
  {
   "cell_type": "markdown",
   "id": "1cd4ba7e",
   "metadata": {},
   "source": [
    "# Checking if Imbalanced data\n",
    "- checking weather the return value is balanced or not using sns.countplot and values_count"
   ]
  },
  {
   "cell_type": "code",
   "execution_count": 61,
   "id": "0b68f3e9",
   "metadata": {},
   "outputs": [
    {
     "name": "stderr",
     "output_type": "stream",
     "text": [
      "C:\\Users\\acer\\anaconda3\\lib\\site-packages\\seaborn\\_decorators.py:36: FutureWarning: Pass the following variable as a keyword arg: x. From version 0.12, the only valid positional argument will be `data`, and passing other arguments without an explicit keyword will result in an error or misinterpretation.\n",
      "  warnings.warn(\n"
     ]
    },
    {
     "data": {
      "text/plain": [
       "<AxesSubplot:xlabel='return', ylabel='count'>"
      ]
     },
     "execution_count": 61,
     "metadata": {},
     "output_type": "execute_result"
    },
    {
     "data": {
      "image/png": "[encoded data removed]",
      "text/plain": [
       "<Figure size 432x288 with 1 Axes>"
      ]
     },
     "metadata": {
      "needs_background": "light"
     },
     "output_type": "display_data"
    }
   ],
   "source": [
    "sns.countplot(dataset1[\"return\"])"
   ]
  },
  {
   "cell_type": "markdown",
   "id": "4af8ec05",
   "metadata": {},
   "source": [
    "- With this visulization we can see that our Dataset is balanced."
   ]
  },
  {
   "cell_type": "code",
   "execution_count": null,
   "id": "39a53f24",
   "metadata": {},
   "outputs": [],
   "source": []
  },
  {
   "cell_type": "markdown",
   "id": "ad44ce63",
   "metadata": {},
   "source": [
    "# Taking care of Catagorical feature item_color and item_size\n",
    "- Encoding item_color and item_size using OneHotEncoding.\n",
    "- Using OneHotEncoding reson being item_color and item_size are 'Nominal Catagorical feature'."
   ]
  },
  {
   "cell_type": "code",
   "execution_count": 62,
   "id": "3962c5a1",
   "metadata": {},
   "outputs": [],
   "source": [
    "colour = dataset1[[\"item_color\"]]\n",
    "colour = pd.get_dummies(colour, drop_first=True)"
   ]
  },
  {
   "cell_type": "code",
   "execution_count": 63,
   "id": "567e8a90",
   "metadata": {},
   "outputs": [
    {
     "data": {
      "text/html": [
       "<div>\n",
       "<style scoped>\n",
       "    .dataframe tbody tr th:only-of-type {\n",
       "        vertical-align: middle;\n",
       "    }\n",
       "\n",
       "    .dataframe tbody tr th {\n",
       "        vertical-align: top;\n",
       "    }\n",
       "\n",
       "    .dataframe thead th {\n",
       "        text-align: right;\n",
       "    }\n",
       "</style>\n",
       "<table border=\"1\" class=\"dataframe\">\n",
       "  <thead>\n",
       "    <tr style=\"text-align: right;\">\n",
       "      <th></th>\n",
       "      <th>item_color_black</th>\n",
       "      <th>item_color_blue</th>\n",
       "      <th>item_color_brown</th>\n",
       "      <th>item_color_green</th>\n",
       "      <th>item_color_grey</th>\n",
       "      <th>item_color_red</th>\n",
       "    </tr>\n",
       "  </thead>\n",
       "  <tbody>\n",
       "    <tr>\n",
       "      <th>0</th>\n",
       "      <td>0</td>\n",
       "      <td>0</td>\n",
       "      <td>0</td>\n",
       "      <td>0</td>\n",
       "      <td>0</td>\n",
       "      <td>0</td>\n",
       "    </tr>\n",
       "    <tr>\n",
       "      <th>1</th>\n",
       "      <td>0</td>\n",
       "      <td>0</td>\n",
       "      <td>0</td>\n",
       "      <td>0</td>\n",
       "      <td>1</td>\n",
       "      <td>0</td>\n",
       "    </tr>\n",
       "    <tr>\n",
       "      <th>2</th>\n",
       "      <td>0</td>\n",
       "      <td>0</td>\n",
       "      <td>0</td>\n",
       "      <td>0</td>\n",
       "      <td>1</td>\n",
       "      <td>0</td>\n",
       "    </tr>\n",
       "    <tr>\n",
       "      <th>3</th>\n",
       "      <td>0</td>\n",
       "      <td>0</td>\n",
       "      <td>1</td>\n",
       "      <td>0</td>\n",
       "      <td>0</td>\n",
       "      <td>0</td>\n",
       "    </tr>\n",
       "    <tr>\n",
       "      <th>5</th>\n",
       "      <td>0</td>\n",
       "      <td>0</td>\n",
       "      <td>0</td>\n",
       "      <td>0</td>\n",
       "      <td>0</td>\n",
       "      <td>0</td>\n",
       "    </tr>\n",
       "  </tbody>\n",
       "</table>\n",
       "</div>"
      ],
      "text/plain": [
       "   item_color_black  item_color_blue  item_color_brown  item_color_green  \\\n",
       "0                 0                0                 0                 0   \n",
       "1                 0                0                 0                 0   \n",
       "2                 0                0                 0                 0   \n",
       "3                 0                0                 1                 0   \n",
       "5                 0                0                 0                 0   \n",
       "\n",
       "   item_color_grey  item_color_red  \n",
       "0                0               0  \n",
       "1                1               0  \n",
       "2                1               0  \n",
       "3                0               0  \n",
       "5                0               0  "
      ]
     },
     "execution_count": 63,
     "metadata": {},
     "output_type": "execute_result"
    }
   ],
   "source": [
    "colour.head()"
   ]
  },
  {
   "cell_type": "code",
   "execution_count": 64,
   "id": "2c1d21fe",
   "metadata": {},
   "outputs": [],
   "source": [
    "Size = dataset1[[\"item_size\"]]\n",
    "Size = pd.get_dummies(Size, drop_first=True)"
   ]
  },
  {
   "cell_type": "code",
   "execution_count": 65,
   "id": "06e89e57",
   "metadata": {},
   "outputs": [
    {
     "data": {
      "text/html": [
       "<div>\n",
       "<style scoped>\n",
       "    .dataframe tbody tr th:only-of-type {\n",
       "        vertical-align: middle;\n",
       "    }\n",
       "\n",
       "    .dataframe tbody tr th {\n",
       "        vertical-align: top;\n",
       "    }\n",
       "\n",
       "    .dataframe thead th {\n",
       "        text-align: right;\n",
       "    }\n",
       "</style>\n",
       "<table border=\"1\" class=\"dataframe\">\n",
       "  <thead>\n",
       "    <tr style=\"text-align: right;\">\n",
       "      <th></th>\n",
       "      <th>item_size_39</th>\n",
       "      <th>item_size_40</th>\n",
       "      <th>item_size_Rare</th>\n",
       "      <th>item_size_l</th>\n",
       "      <th>item_size_m</th>\n",
       "      <th>item_size_unsized</th>\n",
       "      <th>item_size_xl</th>\n",
       "      <th>item_size_xxl</th>\n",
       "    </tr>\n",
       "  </thead>\n",
       "  <tbody>\n",
       "    <tr>\n",
       "      <th>0</th>\n",
       "      <td>0</td>\n",
       "      <td>0</td>\n",
       "      <td>0</td>\n",
       "      <td>0</td>\n",
       "      <td>0</td>\n",
       "      <td>0</td>\n",
       "      <td>0</td>\n",
       "      <td>0</td>\n",
       "    </tr>\n",
       "    <tr>\n",
       "      <th>1</th>\n",
       "      <td>0</td>\n",
       "      <td>0</td>\n",
       "      <td>0</td>\n",
       "      <td>0</td>\n",
       "      <td>0</td>\n",
       "      <td>0</td>\n",
       "      <td>0</td>\n",
       "      <td>1</td>\n",
       "    </tr>\n",
       "    <tr>\n",
       "      <th>2</th>\n",
       "      <td>0</td>\n",
       "      <td>0</td>\n",
       "      <td>0</td>\n",
       "      <td>0</td>\n",
       "      <td>0</td>\n",
       "      <td>0</td>\n",
       "      <td>0</td>\n",
       "      <td>1</td>\n",
       "    </tr>\n",
       "    <tr>\n",
       "      <th>3</th>\n",
       "      <td>0</td>\n",
       "      <td>0</td>\n",
       "      <td>0</td>\n",
       "      <td>0</td>\n",
       "      <td>1</td>\n",
       "      <td>0</td>\n",
       "      <td>0</td>\n",
       "      <td>0</td>\n",
       "    </tr>\n",
       "    <tr>\n",
       "      <th>5</th>\n",
       "      <td>0</td>\n",
       "      <td>0</td>\n",
       "      <td>1</td>\n",
       "      <td>0</td>\n",
       "      <td>0</td>\n",
       "      <td>0</td>\n",
       "      <td>0</td>\n",
       "      <td>0</td>\n",
       "    </tr>\n",
       "  </tbody>\n",
       "</table>\n",
       "</div>"
      ],
      "text/plain": [
       "   item_size_39  item_size_40  item_size_Rare  item_size_l  item_size_m  \\\n",
       "0             0             0               0            0            0   \n",
       "1             0             0               0            0            0   \n",
       "2             0             0               0            0            0   \n",
       "3             0             0               0            0            1   \n",
       "5             0             0               1            0            0   \n",
       "\n",
       "   item_size_unsized  item_size_xl  item_size_xxl  \n",
       "0                  0             0              0  \n",
       "1                  0             0              1  \n",
       "2                  0             0              1  \n",
       "3                  0             0              0  \n",
       "5                  0             0              0  "
      ]
     },
     "execution_count": 65,
     "metadata": {},
     "output_type": "execute_result"
    }
   ],
   "source": [
    "Size.head()"
   ]
  },
  {
   "cell_type": "code",
   "execution_count": null,
   "id": "d01c7b8d",
   "metadata": {},
   "outputs": [],
   "source": []
  },
  {
   "cell_type": "markdown",
   "id": "de40e5ff",
   "metadata": {},
   "source": [
    "# Creating a final_data \n",
    "- creating a final_data for concatinating the dataset1, colour, Size."
   ]
  },
  {
   "cell_type": "code",
   "execution_count": 66,
   "id": "fe7ec005",
   "metadata": {},
   "outputs": [],
   "source": [
    "#Creating a final_data\n",
    "final_data = pd.concat([dataset1, colour, Size], axis=1)"
   ]
  },
  {
   "cell_type": "code",
   "execution_count": 67,
   "id": "68e728f1",
   "metadata": {},
   "outputs": [
    {
     "data": {
      "text/html": [
       "<div>\n",
       "<style scoped>\n",
       "    .dataframe tbody tr th:only-of-type {\n",
       "        vertical-align: middle;\n",
       "    }\n",
       "\n",
       "    .dataframe tbody tr th {\n",
       "        vertical-align: top;\n",
       "    }\n",
       "\n",
       "    .dataframe thead th {\n",
       "        text-align: right;\n",
       "    }\n",
       "</style>\n",
       "<table border=\"1\" class=\"dataframe\">\n",
       "  <thead>\n",
       "    <tr style=\"text-align: right;\">\n",
       "      <th></th>\n",
       "      <th>order_item_id</th>\n",
       "      <th>order_date</th>\n",
       "      <th>delivery_date</th>\n",
       "      <th>item_id</th>\n",
       "      <th>item_size</th>\n",
       "      <th>item_color</th>\n",
       "      <th>brand_id</th>\n",
       "      <th>item_price</th>\n",
       "      <th>user_id</th>\n",
       "      <th>user_dob</th>\n",
       "      <th>...</th>\n",
       "      <th>item_color_grey</th>\n",
       "      <th>item_color_red</th>\n",
       "      <th>item_size_39</th>\n",
       "      <th>item_size_40</th>\n",
       "      <th>item_size_Rare</th>\n",
       "      <th>item_size_l</th>\n",
       "      <th>item_size_m</th>\n",
       "      <th>item_size_unsized</th>\n",
       "      <th>item_size_xl</th>\n",
       "      <th>item_size_xxl</th>\n",
       "    </tr>\n",
       "  </thead>\n",
       "  <tbody>\n",
       "    <tr>\n",
       "      <th>0</th>\n",
       "      <td>1</td>\n",
       "      <td>22-06-2016</td>\n",
       "      <td>27-06-2016</td>\n",
       "      <td>643</td>\n",
       "      <td>38</td>\n",
       "      <td>Rare</td>\n",
       "      <td>5.681034</td>\n",
       "      <td>7.063993</td>\n",
       "      <td>30822</td>\n",
       "      <td>17-04-1969</td>\n",
       "      <td>...</td>\n",
       "      <td>0</td>\n",
       "      <td>0</td>\n",
       "      <td>0</td>\n",
       "      <td>0</td>\n",
       "      <td>0</td>\n",
       "      <td>0</td>\n",
       "      <td>0</td>\n",
       "      <td>0</td>\n",
       "      <td>0</td>\n",
       "      <td>0</td>\n",
       "    </tr>\n",
       "    <tr>\n",
       "      <th>1</th>\n",
       "      <td>10</td>\n",
       "      <td>22-06-2016</td>\n",
       "      <td>27-06-2016</td>\n",
       "      <td>195</td>\n",
       "      <td>xxl</td>\n",
       "      <td>grey</td>\n",
       "      <td>6.856435</td>\n",
       "      <td>4.460942</td>\n",
       "      <td>30823</td>\n",
       "      <td>22-04-1970</td>\n",
       "      <td>...</td>\n",
       "      <td>1</td>\n",
       "      <td>0</td>\n",
       "      <td>0</td>\n",
       "      <td>0</td>\n",
       "      <td>0</td>\n",
       "      <td>0</td>\n",
       "      <td>0</td>\n",
       "      <td>0</td>\n",
       "      <td>0</td>\n",
       "      <td>1</td>\n",
       "    </tr>\n",
       "    <tr>\n",
       "      <th>2</th>\n",
       "      <td>11</td>\n",
       "      <td>22-06-2016</td>\n",
       "      <td>05-07-2016</td>\n",
       "      <td>25</td>\n",
       "      <td>xxl</td>\n",
       "      <td>grey</td>\n",
       "      <td>2.032688</td>\n",
       "      <td>8.938680</td>\n",
       "      <td>30823</td>\n",
       "      <td>22-04-1970</td>\n",
       "      <td>...</td>\n",
       "      <td>1</td>\n",
       "      <td>0</td>\n",
       "      <td>0</td>\n",
       "      <td>0</td>\n",
       "      <td>0</td>\n",
       "      <td>0</td>\n",
       "      <td>0</td>\n",
       "      <td>0</td>\n",
       "      <td>0</td>\n",
       "      <td>1</td>\n",
       "    </tr>\n",
       "    <tr>\n",
       "      <th>3</th>\n",
       "      <td>32</td>\n",
       "      <td>23-06-2016</td>\n",
       "      <td>26-06-2016</td>\n",
       "      <td>173</td>\n",
       "      <td>m</td>\n",
       "      <td>brown</td>\n",
       "      <td>4.688708</td>\n",
       "      <td>4.460942</td>\n",
       "      <td>17234</td>\n",
       "      <td>09-01-1960</td>\n",
       "      <td>...</td>\n",
       "      <td>0</td>\n",
       "      <td>0</td>\n",
       "      <td>0</td>\n",
       "      <td>0</td>\n",
       "      <td>0</td>\n",
       "      <td>0</td>\n",
       "      <td>1</td>\n",
       "      <td>0</td>\n",
       "      <td>0</td>\n",
       "      <td>0</td>\n",
       "    </tr>\n",
       "    <tr>\n",
       "      <th>5</th>\n",
       "      <td>45</td>\n",
       "      <td>23-06-2016</td>\n",
       "      <td>26-06-2016</td>\n",
       "      <td>448</td>\n",
       "      <td>Rare</td>\n",
       "      <td>Rare</td>\n",
       "      <td>8.248948</td>\n",
       "      <td>7.739509</td>\n",
       "      <td>30828</td>\n",
       "      <td>13-05-1966</td>\n",
       "      <td>...</td>\n",
       "      <td>0</td>\n",
       "      <td>0</td>\n",
       "      <td>0</td>\n",
       "      <td>0</td>\n",
       "      <td>1</td>\n",
       "      <td>0</td>\n",
       "      <td>0</td>\n",
       "      <td>0</td>\n",
       "      <td>0</td>\n",
       "      <td>0</td>\n",
       "    </tr>\n",
       "  </tbody>\n",
       "</table>\n",
       "<p>5 rows × 34 columns</p>\n",
       "</div>"
      ],
      "text/plain": [
       "   order_item_id  order_date delivery_date  item_id item_size item_color  \\\n",
       "0              1  22-06-2016    27-06-2016      643        38       Rare   \n",
       "1             10  22-06-2016    27-06-2016      195       xxl       grey   \n",
       "2             11  22-06-2016    05-07-2016       25       xxl       grey   \n",
       "3             32  23-06-2016    26-06-2016      173         m      brown   \n",
       "5             45  23-06-2016    26-06-2016      448      Rare       Rare   \n",
       "\n",
       "   brand_id  item_price  user_id    user_dob  ...  item_color_grey  \\\n",
       "0  5.681034    7.063993    30822  17-04-1969  ...                0   \n",
       "1  6.856435    4.460942    30823  22-04-1970  ...                1   \n",
       "2  2.032688    8.938680    30823  22-04-1970  ...                1   \n",
       "3  4.688708    4.460942    17234  09-01-1960  ...                0   \n",
       "5  8.248948    7.739509    30828  13-05-1966  ...                0   \n",
       "\n",
       "   item_color_red  item_size_39  item_size_40  item_size_Rare  item_size_l  \\\n",
       "0               0             0             0               0            0   \n",
       "1               0             0             0               0            0   \n",
       "2               0             0             0               0            0   \n",
       "3               0             0             0               0            0   \n",
       "5               0             0             0               1            0   \n",
       "\n",
       "   item_size_m  item_size_unsized  item_size_xl  item_size_xxl  \n",
       "0            0                  0             0              0  \n",
       "1            0                  0             0              1  \n",
       "2            0                  0             0              1  \n",
       "3            1                  0             0              0  \n",
       "5            0                  0             0              0  \n",
       "\n",
       "[5 rows x 34 columns]"
      ]
     },
     "execution_count": 67,
     "metadata": {},
     "output_type": "execute_result"
    }
   ],
   "source": [
    "final_data.head()"
   ]
  },
  {
   "cell_type": "code",
   "execution_count": null,
   "id": "3dc7717a",
   "metadata": {},
   "outputs": [],
   "source": []
  },
  {
   "cell_type": "markdown",
   "id": "3496e591",
   "metadata": {},
   "source": [
    "# Dropping item_color and item_size\n",
    "- dropping item_color and item_size as they were encoded"
   ]
  },
  {
   "cell_type": "code",
   "execution_count": 68,
   "id": "c263aecb",
   "metadata": {},
   "outputs": [],
   "source": [
    "#dropping item_color\n",
    "final_data.drop([\"item_color\"], axis=1, inplace=True)"
   ]
  },
  {
   "cell_type": "code",
   "execution_count": 69,
   "id": "137da4fc",
   "metadata": {},
   "outputs": [],
   "source": [
    "#dropping item_size\n",
    "final_data.drop([\"item_size\"], axis=1, inplace=True)"
   ]
  },
  {
   "cell_type": "code",
   "execution_count": 70,
   "id": "7ee0ff8d",
   "metadata": {},
   "outputs": [
    {
     "data": {
      "text/plain": [
       "Index(['order_item_id', 'order_date', 'delivery_date', 'item_id', 'brand_id',\n",
       "       'item_price', 'user_id', 'user_dob', 'user_state', 'return',\n",
       "       'order_year', 'user_dob_day', 'user_dob_month', 'user_dob_year',\n",
       "       'user_reg_year', 'order_dayX', 'days_taken', 'Age_user',\n",
       "       'item_color_black', 'item_color_blue', 'item_color_brown',\n",
       "       'item_color_green', 'item_color_grey', 'item_color_red', 'item_size_39',\n",
       "       'item_size_40', 'item_size_Rare', 'item_size_l', 'item_size_m',\n",
       "       'item_size_unsized', 'item_size_xl', 'item_size_xxl'],\n",
       "      dtype='object')"
      ]
     },
     "execution_count": 70,
     "metadata": {},
     "output_type": "execute_result"
    }
   ],
   "source": [
    "final_data.columns"
   ]
  },
  {
   "cell_type": "code",
   "execution_count": null,
   "id": "167e3234",
   "metadata": {},
   "outputs": [],
   "source": []
  },
  {
   "cell_type": "markdown",
   "id": "1523ca5f",
   "metadata": {},
   "source": [
    "# Taking care of Outliers"
   ]
  },
  {
   "cell_type": "code",
   "execution_count": 71,
   "id": "a485664b",
   "metadata": {},
   "outputs": [],
   "source": [
    "capper = OutlierTrimmer(capping_method='iqr', tail='both', fold=1.5, variables=['item_price','Age_user','days_taken'])"
   ]
  },
  {
   "cell_type": "code",
   "execution_count": 72,
   "id": "99d5cc0b",
   "metadata": {},
   "outputs": [
    {
     "data": {
      "text/plain": [
       "{'item_price': 14.144566111391157,\n",
       " 'Age_user': 4.629256838055879,\n",
       " 'days_taken': 3.4688496001898317}"
      ]
     },
     "execution_count": 72,
     "metadata": {},
     "output_type": "execute_result"
    }
   ],
   "source": [
    "# fit the capper\n",
    "capper.fit(final_data)\n",
    "\n",
    "# transform the data\n",
    "final_data1= capper.fit_transform(final_data)\n",
    "\n",
    "capper.right_tail_caps_"
   ]
  },
  {
   "cell_type": "code",
   "execution_count": 73,
   "id": "38b3b0ef",
   "metadata": {},
   "outputs": [
    {
     "data": {
      "text/html": [
       "<div>\n",
       "<style scoped>\n",
       "    .dataframe tbody tr th:only-of-type {\n",
       "        vertical-align: middle;\n",
       "    }\n",
       "\n",
       "    .dataframe tbody tr th {\n",
       "        vertical-align: top;\n",
       "    }\n",
       "\n",
       "    .dataframe thead th {\n",
       "        text-align: right;\n",
       "    }\n",
       "</style>\n",
       "<table border=\"1\" class=\"dataframe\">\n",
       "  <thead>\n",
       "    <tr style=\"text-align: right;\">\n",
       "      <th></th>\n",
       "      <th>order_item_id</th>\n",
       "      <th>order_date</th>\n",
       "      <th>delivery_date</th>\n",
       "      <th>item_id</th>\n",
       "      <th>brand_id</th>\n",
       "      <th>item_price</th>\n",
       "      <th>user_id</th>\n",
       "      <th>user_dob</th>\n",
       "      <th>user_state</th>\n",
       "      <th>return</th>\n",
       "      <th>...</th>\n",
       "      <th>item_color_grey</th>\n",
       "      <th>item_color_red</th>\n",
       "      <th>item_size_39</th>\n",
       "      <th>item_size_40</th>\n",
       "      <th>item_size_Rare</th>\n",
       "      <th>item_size_l</th>\n",
       "      <th>item_size_m</th>\n",
       "      <th>item_size_unsized</th>\n",
       "      <th>item_size_xl</th>\n",
       "      <th>item_size_xxl</th>\n",
       "    </tr>\n",
       "  </thead>\n",
       "  <tbody>\n",
       "    <tr>\n",
       "      <th>0</th>\n",
       "      <td>1</td>\n",
       "      <td>22-06-2016</td>\n",
       "      <td>27-06-2016</td>\n",
       "      <td>643</td>\n",
       "      <td>5.681034</td>\n",
       "      <td>7.063993</td>\n",
       "      <td>30822</td>\n",
       "      <td>17-04-1969</td>\n",
       "      <td>1013</td>\n",
       "      <td>0</td>\n",
       "      <td>...</td>\n",
       "      <td>0</td>\n",
       "      <td>0</td>\n",
       "      <td>0</td>\n",
       "      <td>0</td>\n",
       "      <td>0</td>\n",
       "      <td>0</td>\n",
       "      <td>0</td>\n",
       "      <td>0</td>\n",
       "      <td>0</td>\n",
       "      <td>0</td>\n",
       "    </tr>\n",
       "    <tr>\n",
       "      <th>1</th>\n",
       "      <td>10</td>\n",
       "      <td>22-06-2016</td>\n",
       "      <td>27-06-2016</td>\n",
       "      <td>195</td>\n",
       "      <td>6.856435</td>\n",
       "      <td>4.460942</td>\n",
       "      <td>30823</td>\n",
       "      <td>22-04-1970</td>\n",
       "      <td>1001</td>\n",
       "      <td>1</td>\n",
       "      <td>...</td>\n",
       "      <td>1</td>\n",
       "      <td>0</td>\n",
       "      <td>0</td>\n",
       "      <td>0</td>\n",
       "      <td>0</td>\n",
       "      <td>0</td>\n",
       "      <td>0</td>\n",
       "      <td>0</td>\n",
       "      <td>0</td>\n",
       "      <td>1</td>\n",
       "    </tr>\n",
       "    <tr>\n",
       "      <th>3</th>\n",
       "      <td>32</td>\n",
       "      <td>23-06-2016</td>\n",
       "      <td>26-06-2016</td>\n",
       "      <td>173</td>\n",
       "      <td>4.688708</td>\n",
       "      <td>4.460942</td>\n",
       "      <td>17234</td>\n",
       "      <td>09-01-1960</td>\n",
       "      <td>1013</td>\n",
       "      <td>0</td>\n",
       "      <td>...</td>\n",
       "      <td>0</td>\n",
       "      <td>0</td>\n",
       "      <td>0</td>\n",
       "      <td>0</td>\n",
       "      <td>0</td>\n",
       "      <td>0</td>\n",
       "      <td>1</td>\n",
       "      <td>0</td>\n",
       "      <td>0</td>\n",
       "      <td>0</td>\n",
       "    </tr>\n",
       "    <tr>\n",
       "      <th>5</th>\n",
       "      <td>45</td>\n",
       "      <td>23-06-2016</td>\n",
       "      <td>26-06-2016</td>\n",
       "      <td>448</td>\n",
       "      <td>8.248948</td>\n",
       "      <td>7.739509</td>\n",
       "      <td>30828</td>\n",
       "      <td>13-05-1966</td>\n",
       "      <td>1008</td>\n",
       "      <td>1</td>\n",
       "      <td>...</td>\n",
       "      <td>0</td>\n",
       "      <td>0</td>\n",
       "      <td>0</td>\n",
       "      <td>0</td>\n",
       "      <td>1</td>\n",
       "      <td>0</td>\n",
       "      <td>0</td>\n",
       "      <td>0</td>\n",
       "      <td>0</td>\n",
       "      <td>0</td>\n",
       "    </tr>\n",
       "    <tr>\n",
       "      <th>6</th>\n",
       "      <td>48</td>\n",
       "      <td>23-06-2016</td>\n",
       "      <td>26-06-2016</td>\n",
       "      <td>32</td>\n",
       "      <td>1.286077</td>\n",
       "      <td>4.679744</td>\n",
       "      <td>30828</td>\n",
       "      <td>13-05-1966</td>\n",
       "      <td>1008</td>\n",
       "      <td>1</td>\n",
       "      <td>...</td>\n",
       "      <td>0</td>\n",
       "      <td>0</td>\n",
       "      <td>0</td>\n",
       "      <td>0</td>\n",
       "      <td>0</td>\n",
       "      <td>1</td>\n",
       "      <td>0</td>\n",
       "      <td>0</td>\n",
       "      <td>0</td>\n",
       "      <td>0</td>\n",
       "    </tr>\n",
       "  </tbody>\n",
       "</table>\n",
       "<p>5 rows × 32 columns</p>\n",
       "</div>"
      ],
      "text/plain": [
       "   order_item_id  order_date delivery_date  item_id  brand_id  item_price  \\\n",
       "0              1  22-06-2016    27-06-2016      643  5.681034    7.063993   \n",
       "1             10  22-06-2016    27-06-2016      195  6.856435    4.460942   \n",
       "3             32  23-06-2016    26-06-2016      173  4.688708    4.460942   \n",
       "5             45  23-06-2016    26-06-2016      448  8.248948    7.739509   \n",
       "6             48  23-06-2016    26-06-2016       32  1.286077    4.679744   \n",
       "\n",
       "   user_id    user_dob  user_state  return  ...  item_color_grey  \\\n",
       "0    30822  17-04-1969        1013       0  ...                0   \n",
       "1    30823  22-04-1970        1001       1  ...                1   \n",
       "3    17234  09-01-1960        1013       0  ...                0   \n",
       "5    30828  13-05-1966        1008       1  ...                0   \n",
       "6    30828  13-05-1966        1008       1  ...                0   \n",
       "\n",
       "   item_color_red  item_size_39  item_size_40  item_size_Rare  item_size_l  \\\n",
       "0               0             0             0               0            0   \n",
       "1               0             0             0               0            0   \n",
       "3               0             0             0               0            0   \n",
       "5               0             0             0               1            0   \n",
       "6               0             0             0               0            1   \n",
       "\n",
       "   item_size_m  item_size_unsized  item_size_xl  item_size_xxl  \n",
       "0            0                  0             0              0  \n",
       "1            0                  0             0              1  \n",
       "3            1                  0             0              0  \n",
       "5            0                  0             0              0  \n",
       "6            0                  0             0              0  \n",
       "\n",
       "[5 rows x 32 columns]"
      ]
     },
     "execution_count": 73,
     "metadata": {},
     "output_type": "execute_result"
    }
   ],
   "source": [
    "final_data1.head()"
   ]
  },
  {
   "cell_type": "code",
   "execution_count": 74,
   "id": "93b5a924",
   "metadata": {},
   "outputs": [
    {
     "data": {
      "text/plain": [
       "Index(['order_item_id', 'order_date', 'delivery_date', 'item_id', 'brand_id',\n",
       "       'item_price', 'user_id', 'user_dob', 'user_state', 'return',\n",
       "       'order_year', 'user_dob_day', 'user_dob_month', 'user_dob_year',\n",
       "       'user_reg_year', 'order_dayX', 'days_taken', 'Age_user',\n",
       "       'item_color_black', 'item_color_blue', 'item_color_brown',\n",
       "       'item_color_green', 'item_color_grey', 'item_color_red', 'item_size_39',\n",
       "       'item_size_40', 'item_size_Rare', 'item_size_l', 'item_size_m',\n",
       "       'item_size_unsized', 'item_size_xl', 'item_size_xxl'],\n",
       "      dtype='object')"
      ]
     },
     "execution_count": 74,
     "metadata": {},
     "output_type": "execute_result"
    }
   ],
   "source": [
    "final_data1.columns"
   ]
  },
  {
   "cell_type": "code",
   "execution_count": 75,
   "id": "3786eb13",
   "metadata": {},
   "outputs": [],
   "source": [
    "Return = final_data1[[\"return\"]]"
   ]
  },
  {
   "cell_type": "code",
   "execution_count": 76,
   "id": "c006e391",
   "metadata": {},
   "outputs": [
    {
     "data": {
      "text/html": [
       "<div>\n",
       "<style scoped>\n",
       "    .dataframe tbody tr th:only-of-type {\n",
       "        vertical-align: middle;\n",
       "    }\n",
       "\n",
       "    .dataframe tbody tr th {\n",
       "        vertical-align: top;\n",
       "    }\n",
       "\n",
       "    .dataframe thead th {\n",
       "        text-align: right;\n",
       "    }\n",
       "</style>\n",
       "<table border=\"1\" class=\"dataframe\">\n",
       "  <thead>\n",
       "    <tr style=\"text-align: right;\">\n",
       "      <th></th>\n",
       "      <th>return</th>\n",
       "    </tr>\n",
       "  </thead>\n",
       "  <tbody>\n",
       "    <tr>\n",
       "      <th>0</th>\n",
       "      <td>0</td>\n",
       "    </tr>\n",
       "    <tr>\n",
       "      <th>1</th>\n",
       "      <td>1</td>\n",
       "    </tr>\n",
       "    <tr>\n",
       "      <th>3</th>\n",
       "      <td>0</td>\n",
       "    </tr>\n",
       "    <tr>\n",
       "      <th>5</th>\n",
       "      <td>1</td>\n",
       "    </tr>\n",
       "    <tr>\n",
       "      <th>6</th>\n",
       "      <td>1</td>\n",
       "    </tr>\n",
       "    <tr>\n",
       "      <th>...</th>\n",
       "      <td>...</td>\n",
       "    </tr>\n",
       "    <tr>\n",
       "      <th>79938</th>\n",
       "      <td>1</td>\n",
       "    </tr>\n",
       "    <tr>\n",
       "      <th>79939</th>\n",
       "      <td>1</td>\n",
       "    </tr>\n",
       "    <tr>\n",
       "      <th>79940</th>\n",
       "      <td>1</td>\n",
       "    </tr>\n",
       "    <tr>\n",
       "      <th>79942</th>\n",
       "      <td>0</td>\n",
       "    </tr>\n",
       "    <tr>\n",
       "      <th>79944</th>\n",
       "      <td>0</td>\n",
       "    </tr>\n",
       "  </tbody>\n",
       "</table>\n",
       "<p>53388 rows × 1 columns</p>\n",
       "</div>"
      ],
      "text/plain": [
       "       return\n",
       "0           0\n",
       "1           1\n",
       "3           0\n",
       "5           1\n",
       "6           1\n",
       "...       ...\n",
       "79938       1\n",
       "79939       1\n",
       "79940       1\n",
       "79942       0\n",
       "79944       0\n",
       "\n",
       "[53388 rows x 1 columns]"
      ]
     },
     "execution_count": 76,
     "metadata": {},
     "output_type": "execute_result"
    }
   ],
   "source": [
    "Return"
   ]
  },
  {
   "cell_type": "code",
   "execution_count": 77,
   "id": "c0692697",
   "metadata": {},
   "outputs": [],
   "source": [
    "final_data1.drop([\"return\"],axis=1, inplace=True)"
   ]
  },
  {
   "cell_type": "code",
   "execution_count": 78,
   "id": "2e9d4243",
   "metadata": {},
   "outputs": [
    {
     "data": {
      "text/plain": [
       "Index(['order_item_id', 'order_date', 'delivery_date', 'item_id', 'brand_id',\n",
       "       'item_price', 'user_id', 'user_dob', 'user_state', 'order_year',\n",
       "       'user_dob_day', 'user_dob_month', 'user_dob_year', 'user_reg_year',\n",
       "       'order_dayX', 'days_taken', 'Age_user', 'item_color_black',\n",
       "       'item_color_blue', 'item_color_brown', 'item_color_green',\n",
       "       'item_color_grey', 'item_color_red', 'item_size_39', 'item_size_40',\n",
       "       'item_size_Rare', 'item_size_l', 'item_size_m', 'item_size_unsized',\n",
       "       'item_size_xl', 'item_size_xxl'],\n",
       "      dtype='object')"
      ]
     },
     "execution_count": 78,
     "metadata": {},
     "output_type": "execute_result"
    }
   ],
   "source": [
    "final_data1.columns"
   ]
  },
  {
   "cell_type": "code",
   "execution_count": 79,
   "id": "059ba196",
   "metadata": {},
   "outputs": [],
   "source": [
    "final_data1.drop([\"order_date\"],axis=1, inplace=True)\n",
    "final_data1.drop([\"delivery_date\"],axis=1, inplace=True)\n",
    "final_data1.drop([\"user_reg_year\"],axis=1, inplace=True)\n",
    "final_data1.drop([\"user_dob\"],axis=1, inplace=True)\n",
    "final_data1.drop([\"order_year\"],axis=1, inplace=True)\n",
    "final_data1.drop([\"order_dayX\"],axis=1, inplace=True)\n",
    "final_data1.drop([\"user_dob_day\"],axis=1, inplace=True)\n",
    "final_data1.drop([\"user_dob_month\"],axis=1, inplace=True)\n",
    "final_data1.drop([\"user_dob_year\"],axis=1, inplace=True)"
   ]
  },
  {
   "cell_type": "code",
   "execution_count": 80,
   "id": "6d021844",
   "metadata": {},
   "outputs": [
    {
     "data": {
      "text/html": [
       "<div>\n",
       "<style scoped>\n",
       "    .dataframe tbody tr th:only-of-type {\n",
       "        vertical-align: middle;\n",
       "    }\n",
       "\n",
       "    .dataframe tbody tr th {\n",
       "        vertical-align: top;\n",
       "    }\n",
       "\n",
       "    .dataframe thead th {\n",
       "        text-align: right;\n",
       "    }\n",
       "</style>\n",
       "<table border=\"1\" class=\"dataframe\">\n",
       "  <thead>\n",
       "    <tr style=\"text-align: right;\">\n",
       "      <th></th>\n",
       "      <th>order_item_id</th>\n",
       "      <th>item_id</th>\n",
       "      <th>brand_id</th>\n",
       "      <th>item_price</th>\n",
       "      <th>user_id</th>\n",
       "      <th>user_state</th>\n",
       "      <th>days_taken</th>\n",
       "      <th>Age_user</th>\n",
       "      <th>item_color_black</th>\n",
       "      <th>item_color_blue</th>\n",
       "      <th>...</th>\n",
       "      <th>item_color_grey</th>\n",
       "      <th>item_color_red</th>\n",
       "      <th>item_size_39</th>\n",
       "      <th>item_size_40</th>\n",
       "      <th>item_size_Rare</th>\n",
       "      <th>item_size_l</th>\n",
       "      <th>item_size_m</th>\n",
       "      <th>item_size_unsized</th>\n",
       "      <th>item_size_xl</th>\n",
       "      <th>item_size_xxl</th>\n",
       "    </tr>\n",
       "  </thead>\n",
       "  <tbody>\n",
       "    <tr>\n",
       "      <th>0</th>\n",
       "      <td>1</td>\n",
       "      <td>643</td>\n",
       "      <td>5.681034</td>\n",
       "      <td>7.063993</td>\n",
       "      <td>30822</td>\n",
       "      <td>1013</td>\n",
       "      <td>2.236068</td>\n",
       "      <td>4.057076</td>\n",
       "      <td>0</td>\n",
       "      <td>0</td>\n",
       "      <td>...</td>\n",
       "      <td>0</td>\n",
       "      <td>0</td>\n",
       "      <td>0</td>\n",
       "      <td>0</td>\n",
       "      <td>0</td>\n",
       "      <td>0</td>\n",
       "      <td>0</td>\n",
       "      <td>0</td>\n",
       "      <td>0</td>\n",
       "      <td>0</td>\n",
       "    </tr>\n",
       "    <tr>\n",
       "      <th>1</th>\n",
       "      <td>10</td>\n",
       "      <td>195</td>\n",
       "      <td>6.856435</td>\n",
       "      <td>4.460942</td>\n",
       "      <td>30823</td>\n",
       "      <td>1001</td>\n",
       "      <td>2.236068</td>\n",
       "      <td>4.033224</td>\n",
       "      <td>0</td>\n",
       "      <td>0</td>\n",
       "      <td>...</td>\n",
       "      <td>1</td>\n",
       "      <td>0</td>\n",
       "      <td>0</td>\n",
       "      <td>0</td>\n",
       "      <td>0</td>\n",
       "      <td>0</td>\n",
       "      <td>0</td>\n",
       "      <td>0</td>\n",
       "      <td>0</td>\n",
       "      <td>1</td>\n",
       "    </tr>\n",
       "    <tr>\n",
       "      <th>3</th>\n",
       "      <td>32</td>\n",
       "      <td>173</td>\n",
       "      <td>4.688708</td>\n",
       "      <td>4.460942</td>\n",
       "      <td>17234</td>\n",
       "      <td>1013</td>\n",
       "      <td>1.732051</td>\n",
       "      <td>4.251904</td>\n",
       "      <td>0</td>\n",
       "      <td>0</td>\n",
       "      <td>...</td>\n",
       "      <td>0</td>\n",
       "      <td>0</td>\n",
       "      <td>0</td>\n",
       "      <td>0</td>\n",
       "      <td>0</td>\n",
       "      <td>0</td>\n",
       "      <td>1</td>\n",
       "      <td>0</td>\n",
       "      <td>0</td>\n",
       "      <td>0</td>\n",
       "    </tr>\n",
       "    <tr>\n",
       "      <th>5</th>\n",
       "      <td>45</td>\n",
       "      <td>448</td>\n",
       "      <td>8.248948</td>\n",
       "      <td>7.739509</td>\n",
       "      <td>30828</td>\n",
       "      <td>1008</td>\n",
       "      <td>1.732051</td>\n",
       "      <td>4.125776</td>\n",
       "      <td>0</td>\n",
       "      <td>0</td>\n",
       "      <td>...</td>\n",
       "      <td>0</td>\n",
       "      <td>0</td>\n",
       "      <td>0</td>\n",
       "      <td>0</td>\n",
       "      <td>1</td>\n",
       "      <td>0</td>\n",
       "      <td>0</td>\n",
       "      <td>0</td>\n",
       "      <td>0</td>\n",
       "      <td>0</td>\n",
       "    </tr>\n",
       "    <tr>\n",
       "      <th>6</th>\n",
       "      <td>48</td>\n",
       "      <td>32</td>\n",
       "      <td>1.286077</td>\n",
       "      <td>4.679744</td>\n",
       "      <td>30828</td>\n",
       "      <td>1008</td>\n",
       "      <td>1.732051</td>\n",
       "      <td>4.125776</td>\n",
       "      <td>0</td>\n",
       "      <td>0</td>\n",
       "      <td>...</td>\n",
       "      <td>0</td>\n",
       "      <td>0</td>\n",
       "      <td>0</td>\n",
       "      <td>0</td>\n",
       "      <td>0</td>\n",
       "      <td>1</td>\n",
       "      <td>0</td>\n",
       "      <td>0</td>\n",
       "      <td>0</td>\n",
       "      <td>0</td>\n",
       "    </tr>\n",
       "  </tbody>\n",
       "</table>\n",
       "<p>5 rows × 22 columns</p>\n",
       "</div>"
      ],
      "text/plain": [
       "   order_item_id  item_id  brand_id  item_price  user_id  user_state  \\\n",
       "0              1      643  5.681034    7.063993    30822        1013   \n",
       "1             10      195  6.856435    4.460942    30823        1001   \n",
       "3             32      173  4.688708    4.460942    17234        1013   \n",
       "5             45      448  8.248948    7.739509    30828        1008   \n",
       "6             48       32  1.286077    4.679744    30828        1008   \n",
       "\n",
       "   days_taken  Age_user  item_color_black  item_color_blue  ...  \\\n",
       "0    2.236068  4.057076                 0                0  ...   \n",
       "1    2.236068  4.033224                 0                0  ...   \n",
       "3    1.732051  4.251904                 0                0  ...   \n",
       "5    1.732051  4.125776                 0                0  ...   \n",
       "6    1.732051  4.125776                 0                0  ...   \n",
       "\n",
       "   item_color_grey  item_color_red  item_size_39  item_size_40  \\\n",
       "0                0               0             0             0   \n",
       "1                1               0             0             0   \n",
       "3                0               0             0             0   \n",
       "5                0               0             0             0   \n",
       "6                0               0             0             0   \n",
       "\n",
       "   item_size_Rare  item_size_l  item_size_m  item_size_unsized  item_size_xl  \\\n",
       "0               0            0            0                  0             0   \n",
       "1               0            0            0                  0             0   \n",
       "3               0            0            1                  0             0   \n",
       "5               1            0            0                  0             0   \n",
       "6               0            1            0                  0             0   \n",
       "\n",
       "   item_size_xxl  \n",
       "0              0  \n",
       "1              1  \n",
       "3              0  \n",
       "5              0  \n",
       "6              0  \n",
       "\n",
       "[5 rows x 22 columns]"
      ]
     },
     "execution_count": 80,
     "metadata": {},
     "output_type": "execute_result"
    }
   ],
   "source": [
    "final_data1.head()"
   ]
  },
  {
   "cell_type": "code",
   "execution_count": 81,
   "id": "89dce303",
   "metadata": {},
   "outputs": [
    {
     "data": {
      "text/plain": [
       "Index(['order_item_id', 'item_id', 'brand_id', 'item_price', 'user_id',\n",
       "       'user_state', 'days_taken', 'Age_user', 'item_color_black',\n",
       "       'item_color_blue', 'item_color_brown', 'item_color_green',\n",
       "       'item_color_grey', 'item_color_red', 'item_size_39', 'item_size_40',\n",
       "       'item_size_Rare', 'item_size_l', 'item_size_m', 'item_size_unsized',\n",
       "       'item_size_xl', 'item_size_xxl'],\n",
       "      dtype='object')"
      ]
     },
     "execution_count": 81,
     "metadata": {},
     "output_type": "execute_result"
    }
   ],
   "source": [
    "final_data1.columns"
   ]
  },
  {
   "cell_type": "code",
   "execution_count": 82,
   "id": "f101b860",
   "metadata": {},
   "outputs": [
    {
     "data": {
      "text/html": [
       "<div>\n",
       "<style scoped>\n",
       "    .dataframe tbody tr th:only-of-type {\n",
       "        vertical-align: middle;\n",
       "    }\n",
       "\n",
       "    .dataframe tbody tr th {\n",
       "        vertical-align: top;\n",
       "    }\n",
       "\n",
       "    .dataframe thead th {\n",
       "        text-align: right;\n",
       "    }\n",
       "</style>\n",
       "<table border=\"1\" class=\"dataframe\">\n",
       "  <thead>\n",
       "    <tr style=\"text-align: right;\">\n",
       "      <th></th>\n",
       "      <th>order_item_id</th>\n",
       "      <th>item_id</th>\n",
       "      <th>brand_id</th>\n",
       "      <th>item_price</th>\n",
       "      <th>user_id</th>\n",
       "      <th>user_state</th>\n",
       "      <th>days_taken</th>\n",
       "      <th>Age_user</th>\n",
       "      <th>item_color_black</th>\n",
       "      <th>item_color_blue</th>\n",
       "      <th>...</th>\n",
       "      <th>item_color_grey</th>\n",
       "      <th>item_color_red</th>\n",
       "      <th>item_size_39</th>\n",
       "      <th>item_size_40</th>\n",
       "      <th>item_size_Rare</th>\n",
       "      <th>item_size_l</th>\n",
       "      <th>item_size_m</th>\n",
       "      <th>item_size_unsized</th>\n",
       "      <th>item_size_xl</th>\n",
       "      <th>item_size_xxl</th>\n",
       "    </tr>\n",
       "  </thead>\n",
       "  <tbody>\n",
       "    <tr>\n",
       "      <th>0</th>\n",
       "      <td>1</td>\n",
       "      <td>643</td>\n",
       "      <td>5.681034</td>\n",
       "      <td>7.063993</td>\n",
       "      <td>30822</td>\n",
       "      <td>1013</td>\n",
       "      <td>2.236068</td>\n",
       "      <td>4.057076</td>\n",
       "      <td>0</td>\n",
       "      <td>0</td>\n",
       "      <td>...</td>\n",
       "      <td>0</td>\n",
       "      <td>0</td>\n",
       "      <td>0</td>\n",
       "      <td>0</td>\n",
       "      <td>0</td>\n",
       "      <td>0</td>\n",
       "      <td>0</td>\n",
       "      <td>0</td>\n",
       "      <td>0</td>\n",
       "      <td>0</td>\n",
       "    </tr>\n",
       "    <tr>\n",
       "      <th>1</th>\n",
       "      <td>10</td>\n",
       "      <td>195</td>\n",
       "      <td>6.856435</td>\n",
       "      <td>4.460942</td>\n",
       "      <td>30823</td>\n",
       "      <td>1001</td>\n",
       "      <td>2.236068</td>\n",
       "      <td>4.033224</td>\n",
       "      <td>0</td>\n",
       "      <td>0</td>\n",
       "      <td>...</td>\n",
       "      <td>1</td>\n",
       "      <td>0</td>\n",
       "      <td>0</td>\n",
       "      <td>0</td>\n",
       "      <td>0</td>\n",
       "      <td>0</td>\n",
       "      <td>0</td>\n",
       "      <td>0</td>\n",
       "      <td>0</td>\n",
       "      <td>1</td>\n",
       "    </tr>\n",
       "    <tr>\n",
       "      <th>3</th>\n",
       "      <td>32</td>\n",
       "      <td>173</td>\n",
       "      <td>4.688708</td>\n",
       "      <td>4.460942</td>\n",
       "      <td>17234</td>\n",
       "      <td>1013</td>\n",
       "      <td>1.732051</td>\n",
       "      <td>4.251904</td>\n",
       "      <td>0</td>\n",
       "      <td>0</td>\n",
       "      <td>...</td>\n",
       "      <td>0</td>\n",
       "      <td>0</td>\n",
       "      <td>0</td>\n",
       "      <td>0</td>\n",
       "      <td>0</td>\n",
       "      <td>0</td>\n",
       "      <td>1</td>\n",
       "      <td>0</td>\n",
       "      <td>0</td>\n",
       "      <td>0</td>\n",
       "    </tr>\n",
       "    <tr>\n",
       "      <th>5</th>\n",
       "      <td>45</td>\n",
       "      <td>448</td>\n",
       "      <td>8.248948</td>\n",
       "      <td>7.739509</td>\n",
       "      <td>30828</td>\n",
       "      <td>1008</td>\n",
       "      <td>1.732051</td>\n",
       "      <td>4.125776</td>\n",
       "      <td>0</td>\n",
       "      <td>0</td>\n",
       "      <td>...</td>\n",
       "      <td>0</td>\n",
       "      <td>0</td>\n",
       "      <td>0</td>\n",
       "      <td>0</td>\n",
       "      <td>1</td>\n",
       "      <td>0</td>\n",
       "      <td>0</td>\n",
       "      <td>0</td>\n",
       "      <td>0</td>\n",
       "      <td>0</td>\n",
       "    </tr>\n",
       "    <tr>\n",
       "      <th>6</th>\n",
       "      <td>48</td>\n",
       "      <td>32</td>\n",
       "      <td>1.286077</td>\n",
       "      <td>4.679744</td>\n",
       "      <td>30828</td>\n",
       "      <td>1008</td>\n",
       "      <td>1.732051</td>\n",
       "      <td>4.125776</td>\n",
       "      <td>0</td>\n",
       "      <td>0</td>\n",
       "      <td>...</td>\n",
       "      <td>0</td>\n",
       "      <td>0</td>\n",
       "      <td>0</td>\n",
       "      <td>0</td>\n",
       "      <td>0</td>\n",
       "      <td>1</td>\n",
       "      <td>0</td>\n",
       "      <td>0</td>\n",
       "      <td>0</td>\n",
       "      <td>0</td>\n",
       "    </tr>\n",
       "  </tbody>\n",
       "</table>\n",
       "<p>5 rows × 22 columns</p>\n",
       "</div>"
      ],
      "text/plain": [
       "   order_item_id  item_id  brand_id  item_price  user_id  user_state  \\\n",
       "0              1      643  5.681034    7.063993    30822        1013   \n",
       "1             10      195  6.856435    4.460942    30823        1001   \n",
       "3             32      173  4.688708    4.460942    17234        1013   \n",
       "5             45      448  8.248948    7.739509    30828        1008   \n",
       "6             48       32  1.286077    4.679744    30828        1008   \n",
       "\n",
       "   days_taken  Age_user  item_color_black  item_color_blue  ...  \\\n",
       "0    2.236068  4.057076                 0                0  ...   \n",
       "1    2.236068  4.033224                 0                0  ...   \n",
       "3    1.732051  4.251904                 0                0  ...   \n",
       "5    1.732051  4.125776                 0                0  ...   \n",
       "6    1.732051  4.125776                 0                0  ...   \n",
       "\n",
       "   item_color_grey  item_color_red  item_size_39  item_size_40  \\\n",
       "0                0               0             0             0   \n",
       "1                1               0             0             0   \n",
       "3                0               0             0             0   \n",
       "5                0               0             0             0   \n",
       "6                0               0             0             0   \n",
       "\n",
       "   item_size_Rare  item_size_l  item_size_m  item_size_unsized  item_size_xl  \\\n",
       "0               0            0            0                  0             0   \n",
       "1               0            0            0                  0             0   \n",
       "3               0            0            1                  0             0   \n",
       "5               1            0            0                  0             0   \n",
       "6               0            1            0                  0             0   \n",
       "\n",
       "   item_size_xxl  \n",
       "0              0  \n",
       "1              1  \n",
       "3              0  \n",
       "5              0  \n",
       "6              0  \n",
       "\n",
       "[5 rows x 22 columns]"
      ]
     },
     "execution_count": 82,
     "metadata": {},
     "output_type": "execute_result"
    }
   ],
   "source": [
    "final_data1.head()"
   ]
  },
  {
   "cell_type": "code",
   "execution_count": 83,
   "id": "0ac9114b",
   "metadata": {},
   "outputs": [
    {
     "name": "stdout",
     "output_type": "stream",
     "text": [
      "<class 'pandas.core.frame.DataFrame'>\n",
      "Int64Index: 53388 entries, 0 to 79944\n",
      "Data columns (total 22 columns):\n",
      " #   Column             Non-Null Count  Dtype  \n",
      "---  ------             --------------  -----  \n",
      " 0   order_item_id      53388 non-null  int64  \n",
      " 1   item_id            53388 non-null  int64  \n",
      " 2   brand_id           53388 non-null  float64\n",
      " 3   item_price         53388 non-null  float64\n",
      " 4   user_id            53388 non-null  int64  \n",
      " 5   user_state         53388 non-null  int64  \n",
      " 6   days_taken         53388 non-null  float64\n",
      " 7   Age_user           53388 non-null  float64\n",
      " 8   item_color_black   53388 non-null  uint8  \n",
      " 9   item_color_blue    53388 non-null  uint8  \n",
      " 10  item_color_brown   53388 non-null  uint8  \n",
      " 11  item_color_green   53388 non-null  uint8  \n",
      " 12  item_color_grey    53388 non-null  uint8  \n",
      " 13  item_color_red     53388 non-null  uint8  \n",
      " 14  item_size_39       53388 non-null  uint8  \n",
      " 15  item_size_40       53388 non-null  uint8  \n",
      " 16  item_size_Rare     53388 non-null  uint8  \n",
      " 17  item_size_l        53388 non-null  uint8  \n",
      " 18  item_size_m        53388 non-null  uint8  \n",
      " 19  item_size_unsized  53388 non-null  uint8  \n",
      " 20  item_size_xl       53388 non-null  uint8  \n",
      " 21  item_size_xxl      53388 non-null  uint8  \n",
      "dtypes: float64(4), int64(4), uint8(14)\n",
      "memory usage: 4.4 MB\n"
     ]
    }
   ],
   "source": [
    "final_data1.info()"
   ]
  },
  {
   "cell_type": "code",
   "execution_count": null,
   "id": "d65ad0e2",
   "metadata": {},
   "outputs": [],
   "source": []
  },
  {
   "cell_type": "markdown",
   "id": "b6631859",
   "metadata": {},
   "source": [
    "# Making a final_dataset \n",
    "- Concatinating the final_data1, return in final_dataset"
   ]
  },
  {
   "cell_type": "code",
   "execution_count": 84,
   "id": "4c60d0ad",
   "metadata": {},
   "outputs": [],
   "source": [
    "final_dataset = pd.concat([final_data1,Return], axis=1)"
   ]
  },
  {
   "cell_type": "code",
   "execution_count": 85,
   "id": "3568fa93",
   "metadata": {},
   "outputs": [
    {
     "data": {
      "text/html": [
       "<div>\n",
       "<style scoped>\n",
       "    .dataframe tbody tr th:only-of-type {\n",
       "        vertical-align: middle;\n",
       "    }\n",
       "\n",
       "    .dataframe tbody tr th {\n",
       "        vertical-align: top;\n",
       "    }\n",
       "\n",
       "    .dataframe thead th {\n",
       "        text-align: right;\n",
       "    }\n",
       "</style>\n",
       "<table border=\"1\" class=\"dataframe\">\n",
       "  <thead>\n",
       "    <tr style=\"text-align: right;\">\n",
       "      <th></th>\n",
       "      <th>order_item_id</th>\n",
       "      <th>item_id</th>\n",
       "      <th>brand_id</th>\n",
       "      <th>item_price</th>\n",
       "      <th>user_id</th>\n",
       "      <th>user_state</th>\n",
       "      <th>days_taken</th>\n",
       "      <th>Age_user</th>\n",
       "      <th>item_color_black</th>\n",
       "      <th>item_color_blue</th>\n",
       "      <th>...</th>\n",
       "      <th>item_color_red</th>\n",
       "      <th>item_size_39</th>\n",
       "      <th>item_size_40</th>\n",
       "      <th>item_size_Rare</th>\n",
       "      <th>item_size_l</th>\n",
       "      <th>item_size_m</th>\n",
       "      <th>item_size_unsized</th>\n",
       "      <th>item_size_xl</th>\n",
       "      <th>item_size_xxl</th>\n",
       "      <th>return</th>\n",
       "    </tr>\n",
       "  </thead>\n",
       "  <tbody>\n",
       "    <tr>\n",
       "      <th>0</th>\n",
       "      <td>1</td>\n",
       "      <td>643</td>\n",
       "      <td>5.681034</td>\n",
       "      <td>7.063993</td>\n",
       "      <td>30822</td>\n",
       "      <td>1013</td>\n",
       "      <td>2.236068</td>\n",
       "      <td>4.057076</td>\n",
       "      <td>0</td>\n",
       "      <td>0</td>\n",
       "      <td>...</td>\n",
       "      <td>0</td>\n",
       "      <td>0</td>\n",
       "      <td>0</td>\n",
       "      <td>0</td>\n",
       "      <td>0</td>\n",
       "      <td>0</td>\n",
       "      <td>0</td>\n",
       "      <td>0</td>\n",
       "      <td>0</td>\n",
       "      <td>0</td>\n",
       "    </tr>\n",
       "    <tr>\n",
       "      <th>1</th>\n",
       "      <td>10</td>\n",
       "      <td>195</td>\n",
       "      <td>6.856435</td>\n",
       "      <td>4.460942</td>\n",
       "      <td>30823</td>\n",
       "      <td>1001</td>\n",
       "      <td>2.236068</td>\n",
       "      <td>4.033224</td>\n",
       "      <td>0</td>\n",
       "      <td>0</td>\n",
       "      <td>...</td>\n",
       "      <td>0</td>\n",
       "      <td>0</td>\n",
       "      <td>0</td>\n",
       "      <td>0</td>\n",
       "      <td>0</td>\n",
       "      <td>0</td>\n",
       "      <td>0</td>\n",
       "      <td>0</td>\n",
       "      <td>1</td>\n",
       "      <td>1</td>\n",
       "    </tr>\n",
       "    <tr>\n",
       "      <th>3</th>\n",
       "      <td>32</td>\n",
       "      <td>173</td>\n",
       "      <td>4.688708</td>\n",
       "      <td>4.460942</td>\n",
       "      <td>17234</td>\n",
       "      <td>1013</td>\n",
       "      <td>1.732051</td>\n",
       "      <td>4.251904</td>\n",
       "      <td>0</td>\n",
       "      <td>0</td>\n",
       "      <td>...</td>\n",
       "      <td>0</td>\n",
       "      <td>0</td>\n",
       "      <td>0</td>\n",
       "      <td>0</td>\n",
       "      <td>0</td>\n",
       "      <td>1</td>\n",
       "      <td>0</td>\n",
       "      <td>0</td>\n",
       "      <td>0</td>\n",
       "      <td>0</td>\n",
       "    </tr>\n",
       "    <tr>\n",
       "      <th>5</th>\n",
       "      <td>45</td>\n",
       "      <td>448</td>\n",
       "      <td>8.248948</td>\n",
       "      <td>7.739509</td>\n",
       "      <td>30828</td>\n",
       "      <td>1008</td>\n",
       "      <td>1.732051</td>\n",
       "      <td>4.125776</td>\n",
       "      <td>0</td>\n",
       "      <td>0</td>\n",
       "      <td>...</td>\n",
       "      <td>0</td>\n",
       "      <td>0</td>\n",
       "      <td>0</td>\n",
       "      <td>1</td>\n",
       "      <td>0</td>\n",
       "      <td>0</td>\n",
       "      <td>0</td>\n",
       "      <td>0</td>\n",
       "      <td>0</td>\n",
       "      <td>1</td>\n",
       "    </tr>\n",
       "    <tr>\n",
       "      <th>6</th>\n",
       "      <td>48</td>\n",
       "      <td>32</td>\n",
       "      <td>1.286077</td>\n",
       "      <td>4.679744</td>\n",
       "      <td>30828</td>\n",
       "      <td>1008</td>\n",
       "      <td>1.732051</td>\n",
       "      <td>4.125776</td>\n",
       "      <td>0</td>\n",
       "      <td>0</td>\n",
       "      <td>...</td>\n",
       "      <td>0</td>\n",
       "      <td>0</td>\n",
       "      <td>0</td>\n",
       "      <td>0</td>\n",
       "      <td>1</td>\n",
       "      <td>0</td>\n",
       "      <td>0</td>\n",
       "      <td>0</td>\n",
       "      <td>0</td>\n",
       "      <td>1</td>\n",
       "    </tr>\n",
       "  </tbody>\n",
       "</table>\n",
       "<p>5 rows × 23 columns</p>\n",
       "</div>"
      ],
      "text/plain": [
       "   order_item_id  item_id  brand_id  item_price  user_id  user_state  \\\n",
       "0              1      643  5.681034    7.063993    30822        1013   \n",
       "1             10      195  6.856435    4.460942    30823        1001   \n",
       "3             32      173  4.688708    4.460942    17234        1013   \n",
       "5             45      448  8.248948    7.739509    30828        1008   \n",
       "6             48       32  1.286077    4.679744    30828        1008   \n",
       "\n",
       "   days_taken  Age_user  item_color_black  item_color_blue  ...  \\\n",
       "0    2.236068  4.057076                 0                0  ...   \n",
       "1    2.236068  4.033224                 0                0  ...   \n",
       "3    1.732051  4.251904                 0                0  ...   \n",
       "5    1.732051  4.125776                 0                0  ...   \n",
       "6    1.732051  4.125776                 0                0  ...   \n",
       "\n",
       "   item_color_red  item_size_39  item_size_40  item_size_Rare  item_size_l  \\\n",
       "0               0             0             0               0            0   \n",
       "1               0             0             0               0            0   \n",
       "3               0             0             0               0            0   \n",
       "5               0             0             0               1            0   \n",
       "6               0             0             0               0            1   \n",
       "\n",
       "   item_size_m  item_size_unsized  item_size_xl  item_size_xxl  return  \n",
       "0            0                  0             0              0       0  \n",
       "1            0                  0             0              1       1  \n",
       "3            1                  0             0              0       0  \n",
       "5            0                  0             0              0       1  \n",
       "6            0                  0             0              0       1  \n",
       "\n",
       "[5 rows x 23 columns]"
      ]
     },
     "execution_count": 85,
     "metadata": {},
     "output_type": "execute_result"
    }
   ],
   "source": [
    "final_dataset.head()"
   ]
  },
  {
   "cell_type": "code",
   "execution_count": 86,
   "id": "927cb9ae",
   "metadata": {},
   "outputs": [
    {
     "data": {
      "text/plain": [
       "Index(['order_item_id', 'item_id', 'brand_id', 'item_price', 'user_id',\n",
       "       'user_state', 'days_taken', 'Age_user', 'item_color_black',\n",
       "       'item_color_blue', 'item_color_brown', 'item_color_green',\n",
       "       'item_color_grey', 'item_color_red', 'item_size_39', 'item_size_40',\n",
       "       'item_size_Rare', 'item_size_l', 'item_size_m', 'item_size_unsized',\n",
       "       'item_size_xl', 'item_size_xxl', 'return'],\n",
       "      dtype='object')"
      ]
     },
     "execution_count": 86,
     "metadata": {},
     "output_type": "execute_result"
    }
   ],
   "source": [
    "final_dataset.columns"
   ]
  },
  {
   "cell_type": "code",
   "execution_count": 87,
   "id": "24c86442",
   "metadata": {},
   "outputs": [
    {
     "name": "stdout",
     "output_type": "stream",
     "text": [
      "<class 'pandas.core.frame.DataFrame'>\n",
      "Int64Index: 53388 entries, 0 to 79944\n",
      "Data columns (total 23 columns):\n",
      " #   Column             Non-Null Count  Dtype  \n",
      "---  ------             --------------  -----  \n",
      " 0   order_item_id      53388 non-null  int64  \n",
      " 1   item_id            53388 non-null  int64  \n",
      " 2   brand_id           53388 non-null  float64\n",
      " 3   item_price         53388 non-null  float64\n",
      " 4   user_id            53388 non-null  int64  \n",
      " 5   user_state         53388 non-null  int64  \n",
      " 6   days_taken         53388 non-null  float64\n",
      " 7   Age_user           53388 non-null  float64\n",
      " 8   item_color_black   53388 non-null  uint8  \n",
      " 9   item_color_blue    53388 non-null  uint8  \n",
      " 10  item_color_brown   53388 non-null  uint8  \n",
      " 11  item_color_green   53388 non-null  uint8  \n",
      " 12  item_color_grey    53388 non-null  uint8  \n",
      " 13  item_color_red     53388 non-null  uint8  \n",
      " 14  item_size_39       53388 non-null  uint8  \n",
      " 15  item_size_40       53388 non-null  uint8  \n",
      " 16  item_size_Rare     53388 non-null  uint8  \n",
      " 17  item_size_l        53388 non-null  uint8  \n",
      " 18  item_size_m        53388 non-null  uint8  \n",
      " 19  item_size_unsized  53388 non-null  uint8  \n",
      " 20  item_size_xl       53388 non-null  uint8  \n",
      " 21  item_size_xxl      53388 non-null  uint8  \n",
      " 22  return             53388 non-null  int64  \n",
      "dtypes: float64(4), int64(5), uint8(14)\n",
      "memory usage: 4.8 MB\n"
     ]
    }
   ],
   "source": [
    "final_dataset.info()"
   ]
  },
  {
   "cell_type": "code",
   "execution_count": null,
   "id": "6aa26de8",
   "metadata": {},
   "outputs": [],
   "source": []
  },
  {
   "cell_type": "markdown",
   "id": "2c734a07",
   "metadata": {},
   "source": [
    "# Using pairplot"
   ]
  },
  {
   "cell_type": "code",
   "execution_count": null,
   "id": "9240ff8b",
   "metadata": {},
   "outputs": [],
   "source": [
    "# sns.pairplot(final_dataset, hue='return')"
   ]
  },
  {
   "cell_type": "code",
   "execution_count": null,
   "id": "55a13be5",
   "metadata": {},
   "outputs": [],
   "source": []
  },
  {
   "cell_type": "markdown",
   "id": "4fcc3146",
   "metadata": {},
   "source": [
    "# Making Independent and Dependent(targent) variables\n",
    "- X is the independent variable contains all the features except return(traget values).\n",
    "- y is the dependent variable contains return value(target value)."
   ]
  },
  {
   "cell_type": "code",
   "execution_count": 90,
   "id": "8cab7baa",
   "metadata": {},
   "outputs": [],
   "source": [
    "X = final_dataset.iloc[:, :22]  #Independent\n",
    "y = final_dataset.iloc[:, 22]   #Dependent"
   ]
  },
  {
   "cell_type": "code",
   "execution_count": 91,
   "id": "e9e39719",
   "metadata": {},
   "outputs": [
    {
     "data": {
      "text/html": [
       "<div>\n",
       "<style scoped>\n",
       "    .dataframe tbody tr th:only-of-type {\n",
       "        vertical-align: middle;\n",
       "    }\n",
       "\n",
       "    .dataframe tbody tr th {\n",
       "        vertical-align: top;\n",
       "    }\n",
       "\n",
       "    .dataframe thead th {\n",
       "        text-align: right;\n",
       "    }\n",
       "</style>\n",
       "<table border=\"1\" class=\"dataframe\">\n",
       "  <thead>\n",
       "    <tr style=\"text-align: right;\">\n",
       "      <th></th>\n",
       "      <th>order_item_id</th>\n",
       "      <th>item_id</th>\n",
       "      <th>brand_id</th>\n",
       "      <th>item_price</th>\n",
       "      <th>user_id</th>\n",
       "      <th>user_state</th>\n",
       "      <th>days_taken</th>\n",
       "      <th>Age_user</th>\n",
       "      <th>item_color_black</th>\n",
       "      <th>item_color_blue</th>\n",
       "      <th>...</th>\n",
       "      <th>item_color_grey</th>\n",
       "      <th>item_color_red</th>\n",
       "      <th>item_size_39</th>\n",
       "      <th>item_size_40</th>\n",
       "      <th>item_size_Rare</th>\n",
       "      <th>item_size_l</th>\n",
       "      <th>item_size_m</th>\n",
       "      <th>item_size_unsized</th>\n",
       "      <th>item_size_xl</th>\n",
       "      <th>item_size_xxl</th>\n",
       "    </tr>\n",
       "  </thead>\n",
       "  <tbody>\n",
       "    <tr>\n",
       "      <th>0</th>\n",
       "      <td>1</td>\n",
       "      <td>643</td>\n",
       "      <td>5.681034</td>\n",
       "      <td>7.063993</td>\n",
       "      <td>30822</td>\n",
       "      <td>1013</td>\n",
       "      <td>2.236068</td>\n",
       "      <td>4.057076</td>\n",
       "      <td>0</td>\n",
       "      <td>0</td>\n",
       "      <td>...</td>\n",
       "      <td>0</td>\n",
       "      <td>0</td>\n",
       "      <td>0</td>\n",
       "      <td>0</td>\n",
       "      <td>0</td>\n",
       "      <td>0</td>\n",
       "      <td>0</td>\n",
       "      <td>0</td>\n",
       "      <td>0</td>\n",
       "      <td>0</td>\n",
       "    </tr>\n",
       "    <tr>\n",
       "      <th>1</th>\n",
       "      <td>10</td>\n",
       "      <td>195</td>\n",
       "      <td>6.856435</td>\n",
       "      <td>4.460942</td>\n",
       "      <td>30823</td>\n",
       "      <td>1001</td>\n",
       "      <td>2.236068</td>\n",
       "      <td>4.033224</td>\n",
       "      <td>0</td>\n",
       "      <td>0</td>\n",
       "      <td>...</td>\n",
       "      <td>1</td>\n",
       "      <td>0</td>\n",
       "      <td>0</td>\n",
       "      <td>0</td>\n",
       "      <td>0</td>\n",
       "      <td>0</td>\n",
       "      <td>0</td>\n",
       "      <td>0</td>\n",
       "      <td>0</td>\n",
       "      <td>1</td>\n",
       "    </tr>\n",
       "    <tr>\n",
       "      <th>3</th>\n",
       "      <td>32</td>\n",
       "      <td>173</td>\n",
       "      <td>4.688708</td>\n",
       "      <td>4.460942</td>\n",
       "      <td>17234</td>\n",
       "      <td>1013</td>\n",
       "      <td>1.732051</td>\n",
       "      <td>4.251904</td>\n",
       "      <td>0</td>\n",
       "      <td>0</td>\n",
       "      <td>...</td>\n",
       "      <td>0</td>\n",
       "      <td>0</td>\n",
       "      <td>0</td>\n",
       "      <td>0</td>\n",
       "      <td>0</td>\n",
       "      <td>0</td>\n",
       "      <td>1</td>\n",
       "      <td>0</td>\n",
       "      <td>0</td>\n",
       "      <td>0</td>\n",
       "    </tr>\n",
       "    <tr>\n",
       "      <th>5</th>\n",
       "      <td>45</td>\n",
       "      <td>448</td>\n",
       "      <td>8.248948</td>\n",
       "      <td>7.739509</td>\n",
       "      <td>30828</td>\n",
       "      <td>1008</td>\n",
       "      <td>1.732051</td>\n",
       "      <td>4.125776</td>\n",
       "      <td>0</td>\n",
       "      <td>0</td>\n",
       "      <td>...</td>\n",
       "      <td>0</td>\n",
       "      <td>0</td>\n",
       "      <td>0</td>\n",
       "      <td>0</td>\n",
       "      <td>1</td>\n",
       "      <td>0</td>\n",
       "      <td>0</td>\n",
       "      <td>0</td>\n",
       "      <td>0</td>\n",
       "      <td>0</td>\n",
       "    </tr>\n",
       "    <tr>\n",
       "      <th>6</th>\n",
       "      <td>48</td>\n",
       "      <td>32</td>\n",
       "      <td>1.286077</td>\n",
       "      <td>4.679744</td>\n",
       "      <td>30828</td>\n",
       "      <td>1008</td>\n",
       "      <td>1.732051</td>\n",
       "      <td>4.125776</td>\n",
       "      <td>0</td>\n",
       "      <td>0</td>\n",
       "      <td>...</td>\n",
       "      <td>0</td>\n",
       "      <td>0</td>\n",
       "      <td>0</td>\n",
       "      <td>0</td>\n",
       "      <td>0</td>\n",
       "      <td>1</td>\n",
       "      <td>0</td>\n",
       "      <td>0</td>\n",
       "      <td>0</td>\n",
       "      <td>0</td>\n",
       "    </tr>\n",
       "  </tbody>\n",
       "</table>\n",
       "<p>5 rows × 22 columns</p>\n",
       "</div>"
      ],
      "text/plain": [
       "   order_item_id  item_id  brand_id  item_price  user_id  user_state  \\\n",
       "0              1      643  5.681034    7.063993    30822        1013   \n",
       "1             10      195  6.856435    4.460942    30823        1001   \n",
       "3             32      173  4.688708    4.460942    17234        1013   \n",
       "5             45      448  8.248948    7.739509    30828        1008   \n",
       "6             48       32  1.286077    4.679744    30828        1008   \n",
       "\n",
       "   days_taken  Age_user  item_color_black  item_color_blue  ...  \\\n",
       "0    2.236068  4.057076                 0                0  ...   \n",
       "1    2.236068  4.033224                 0                0  ...   \n",
       "3    1.732051  4.251904                 0                0  ...   \n",
       "5    1.732051  4.125776                 0                0  ...   \n",
       "6    1.732051  4.125776                 0                0  ...   \n",
       "\n",
       "   item_color_grey  item_color_red  item_size_39  item_size_40  \\\n",
       "0                0               0             0             0   \n",
       "1                1               0             0             0   \n",
       "3                0               0             0             0   \n",
       "5                0               0             0             0   \n",
       "6                0               0             0             0   \n",
       "\n",
       "   item_size_Rare  item_size_l  item_size_m  item_size_unsized  item_size_xl  \\\n",
       "0               0            0            0                  0             0   \n",
       "1               0            0            0                  0             0   \n",
       "3               0            0            1                  0             0   \n",
       "5               1            0            0                  0             0   \n",
       "6               0            1            0                  0             0   \n",
       "\n",
       "   item_size_xxl  \n",
       "0              0  \n",
       "1              1  \n",
       "3              0  \n",
       "5              0  \n",
       "6              0  \n",
       "\n",
       "[5 rows x 22 columns]"
      ]
     },
     "execution_count": 91,
     "metadata": {},
     "output_type": "execute_result"
    }
   ],
   "source": [
    "X.head()"
   ]
  },
  {
   "cell_type": "code",
   "execution_count": 92,
   "id": "61318c22",
   "metadata": {},
   "outputs": [
    {
     "data": {
      "text/plain": [
       "0    0\n",
       "1    1\n",
       "3    0\n",
       "5    1\n",
       "6    1\n",
       "Name: return, dtype: int64"
      ]
     },
     "execution_count": 92,
     "metadata": {},
     "output_type": "execute_result"
    }
   ],
   "source": [
    "y.head()"
   ]
  },
  {
   "cell_type": "code",
   "execution_count": 93,
   "id": "c3450f5c",
   "metadata": {},
   "outputs": [
    {
     "name": "stdout",
     "output_type": "stream",
     "text": [
      "<class 'pandas.core.frame.DataFrame'>\n",
      "Int64Index: 53388 entries, 0 to 79944\n",
      "Data columns (total 22 columns):\n",
      " #   Column             Non-Null Count  Dtype  \n",
      "---  ------             --------------  -----  \n",
      " 0   order_item_id      53388 non-null  int64  \n",
      " 1   item_id            53388 non-null  int64  \n",
      " 2   brand_id           53388 non-null  float64\n",
      " 3   item_price         53388 non-null  float64\n",
      " 4   user_id            53388 non-null  int64  \n",
      " 5   user_state         53388 non-null  int64  \n",
      " 6   days_taken         53388 non-null  float64\n",
      " 7   Age_user           53388 non-null  float64\n",
      " 8   item_color_black   53388 non-null  uint8  \n",
      " 9   item_color_blue    53388 non-null  uint8  \n",
      " 10  item_color_brown   53388 non-null  uint8  \n",
      " 11  item_color_green   53388 non-null  uint8  \n",
      " 12  item_color_grey    53388 non-null  uint8  \n",
      " 13  item_color_red     53388 non-null  uint8  \n",
      " 14  item_size_39       53388 non-null  uint8  \n",
      " 15  item_size_40       53388 non-null  uint8  \n",
      " 16  item_size_Rare     53388 non-null  uint8  \n",
      " 17  item_size_l        53388 non-null  uint8  \n",
      " 18  item_size_m        53388 non-null  uint8  \n",
      " 19  item_size_unsized  53388 non-null  uint8  \n",
      " 20  item_size_xl       53388 non-null  uint8  \n",
      " 21  item_size_xxl      53388 non-null  uint8  \n",
      "dtypes: float64(4), int64(4), uint8(14)\n",
      "memory usage: 4.4 MB\n"
     ]
    }
   ],
   "source": [
    "X.info()"
   ]
  },
  {
   "cell_type": "code",
   "execution_count": null,
   "id": "ded88ab9",
   "metadata": {},
   "outputs": [],
   "source": []
  },
  {
   "cell_type": "markdown",
   "id": "23412211",
   "metadata": {},
   "source": [
    "# Feature Selection\n",
    "- using ExtraTreeClassifier\n",
    "- using mutual info_classif"
   ]
  },
  {
   "cell_type": "code",
   "execution_count": 94,
   "id": "c6955e29",
   "metadata": {},
   "outputs": [
    {
     "data": {
      "text/plain": [
       "ExtraTreesClassifier()"
      ]
     },
     "execution_count": 94,
     "metadata": {},
     "output_type": "execute_result"
    }
   ],
   "source": [
    "#ExtraTreeClassifier \n",
    "imp = ExtraTreesClassifier()\n",
    "imp.fit(X,y)"
   ]
  },
  {
   "cell_type": "code",
   "execution_count": 95,
   "id": "1f48da3b",
   "metadata": {},
   "outputs": [
    {
     "data": {
      "text/plain": [
       "array([0.15855757, 0.11087018, 0.08369359, 0.10788188, 0.12767005,\n",
       "       0.10314058, 0.08647354, 0.12024836, 0.01331056, 0.00968823,\n",
       "       0.0072064 , 0.00669906, 0.00990427, 0.00906931, 0.00467049,\n",
       "       0.0040869 , 0.006229  , 0.0068886 , 0.00655259, 0.00591932,\n",
       "       0.00613563, 0.00510388])"
      ]
     },
     "execution_count": 95,
     "metadata": {},
     "output_type": "execute_result"
    }
   ],
   "source": [
    "#Feature importance \n",
    "imp.feature_importances_"
   ]
  },
  {
   "cell_type": "code",
   "execution_count": 96,
   "id": "dfe8bce2",
   "metadata": {},
   "outputs": [
    {
     "data": {
      "image/png": "[encoded data removed]",
      "text/plain": [
       "<Figure size 432x288 with 1 Axes>"
      ]
     },
     "metadata": {
      "needs_background": "light"
     },
     "output_type": "display_data"
    }
   ],
   "source": [
    "#Ploting into barh graph\n",
    "imp_ = pd.Series(imp.feature_importances_, index=X.columns)\n",
    "imp_.plot(kind='barh')\n",
    "plt.show()"
   ]
  },
  {
   "cell_type": "code",
   "execution_count": 97,
   "id": "a73cb7ed",
   "metadata": {},
   "outputs": [
    {
     "data": {
      "text/plain": [
       "item_size_xxl        0.000000\n",
       "item_size_l          0.000000\n",
       "item_size_Rare       0.000000\n",
       "item_size_39         0.000000\n",
       "item_size_xl         0.000000\n",
       "days_taken           0.000000\n",
       "user_state           0.000312\n",
       "item_color_brown     0.000503\n",
       "item_color_blue      0.000541\n",
       "item_size_40         0.000574\n",
       "item_size_m          0.001027\n",
       "item_color_black     0.001280\n",
       "item_size_unsized    0.001875\n",
       "item_color_red       0.002849\n",
       "Age_user             0.002969\n",
       "item_color_grey      0.002997\n",
       "item_color_green     0.003489\n",
       "item_price           0.015737\n",
       "brand_id             0.020504\n",
       "item_id              0.037093\n",
       "order_item_id        0.091117\n",
       "user_id              0.097199\n",
       "dtype: float64"
      ]
     },
     "execution_count": 97,
     "metadata": {},
     "output_type": "execute_result"
    }
   ],
   "source": [
    "m_info = mutual_info_classif(X,y)\n",
    "m_data = pd.Series(m_info, index=X.columns)\n",
    "m_data.sort_values(ascending=True)"
   ]
  },
  {
   "cell_type": "code",
   "execution_count": null,
   "id": "8e322c34",
   "metadata": {},
   "outputs": [],
   "source": [
    "user_id, user_state, order_item_id"
   ]
  },
  {
   "cell_type": "markdown",
   "id": "0e4a500d",
   "metadata": {},
   "source": [
    "# Spliting into traning and testing set\n",
    "- spliting into X_train, X_test, y_train, y_test"
   ]
  },
  {
   "cell_type": "code",
   "execution_count": 98,
   "id": "14cf05ab",
   "metadata": {},
   "outputs": [],
   "source": [
    "from sklearn.model_selection import train_test_split\n",
    "X_train, X_test, y_train, y_test = train_test_split(X,y,test_size=0.20,random_state=0)"
   ]
  },
  {
   "cell_type": "markdown",
   "id": "b61699f2",
   "metadata": {},
   "source": [
    "# Creating model\n",
    "- creating rf model using RandomForestClassifier\n",
    "- traning our model with X_train, y_train"
   ]
  },
  {
   "cell_type": "code",
   "execution_count": 99,
   "id": "d50d10d1",
   "metadata": {},
   "outputs": [
    {
     "data": {
      "text/plain": [
       "RandomForestClassifier()"
      ]
     },
     "execution_count": 99,
     "metadata": {},
     "output_type": "execute_result"
    }
   ],
   "source": [
    "rf=RandomForestClassifier()  #Creating Model\n",
    "rf.fit(X_train,y_train)      #fitting X_train, y_train "
   ]
  },
  {
   "cell_type": "markdown",
   "id": "3df37d3b",
   "metadata": {},
   "source": [
    "# Predicting using X_test\n",
    "- testing our model using X_test"
   ]
  },
  {
   "cell_type": "code",
   "execution_count": 100,
   "id": "3ac36e4c",
   "metadata": {},
   "outputs": [],
   "source": [
    "y_pred = rf.predict(X_test) # to predict the return values of X_test"
   ]
  },
  {
   "cell_type": "markdown",
   "id": "a66347fc",
   "metadata": {},
   "source": [
    "# Checking model accuracy\n",
    "- using confusion matrix, f1_score, accuracy"
   ]
  },
  {
   "cell_type": "code",
   "execution_count": 101,
   "id": "d8864c0a",
   "metadata": {},
   "outputs": [],
   "source": [
    "cf = confusion_matrix(y_test, y_pred)  #confusion metrix\n",
    "f = f1_score(y_test, y_pred)           #f1_sore\n",
    "a_s = accuracy_score(y_test, y_pred)   #accuracy_score"
   ]
  },
  {
   "cell_type": "code",
   "execution_count": 102,
   "id": "5c4bac4f",
   "metadata": {},
   "outputs": [
    {
     "data": {
      "text/plain": [
       "array([[2812, 2343],\n",
       "       [1849, 3674]], dtype=int64)"
      ]
     },
     "execution_count": 102,
     "metadata": {},
     "output_type": "execute_result"
    }
   ],
   "source": [
    "#confusion metrix\n",
    "cf"
   ]
  },
  {
   "cell_type": "code",
   "execution_count": 103,
   "id": "c18052c2",
   "metadata": {},
   "outputs": [
    {
     "data": {
      "text/plain": [
       "0.6367417677642981"
      ]
     },
     "execution_count": 103,
     "metadata": {},
     "output_type": "execute_result"
    }
   ],
   "source": [
    "#f1_score\n",
    "f"
   ]
  },
  {
   "cell_type": "code",
   "execution_count": 104,
   "id": "0a99ac44",
   "metadata": {},
   "outputs": [
    {
     "data": {
      "text/plain": [
       "0.6074171193107324"
      ]
     },
     "execution_count": 104,
     "metadata": {},
     "output_type": "execute_result"
    }
   ],
   "source": [
    "#Accuracy_score\n",
    "a_s"
   ]
  },
  {
   "cell_type": "code",
   "execution_count": null,
   "id": "e5f39e55",
   "metadata": {},
   "outputs": [],
   "source": []
  },
  {
   "cell_type": "markdown",
   "id": "e74d9ba3",
   "metadata": {},
   "source": [
    "# Hypertuning "
   ]
  },
  {
   "cell_type": "code",
   "execution_count": 105,
   "id": "bf5be41a",
   "metadata": {},
   "outputs": [],
   "source": [
    "# from sklearn.model_selection import RandomizedSearchCV\n",
    "\n",
    "\n",
    "# #Randomized Search CV\n",
    "\n",
    "# # Number of trees in random forest\n",
    "# n_estimators = [int(x) for x in np.linspace(start = 100, stop = 1200, num = 12)]\n",
    "# # Number of features to consider at every split\n",
    "# max_features = ['auto', 'sqrt']\n",
    "# # Maximum number of levels in tree\n",
    "# max_depth = [int(x) for x in np.linspace(5, 30, num = 6)]\n",
    "# # Minimum number of samples required to split a node\n",
    "# min_samples_split = [2, 5, 10, 15, 100]\n",
    "# # Minimum number of samples required at each leaf node\n",
    "# min_samples_leaf = [1, 2, 5, 10]"
   ]
  },
  {
   "cell_type": "code",
   "execution_count": 106,
   "id": "5f00bfef",
   "metadata": {},
   "outputs": [],
   "source": [
    "# # Create the random grid\n",
    "\n",
    "# random_grid = {'n_estimators': n_estimators,\n",
    "#                'max_features': max_features,\n",
    "#                'max_depth': max_depth,\n",
    "#                'min_samples_split': min_samples_split,\n",
    "#                'min_samples_leaf': min_samples_leaf}"
   ]
  },
  {
   "cell_type": "code",
   "execution_count": 107,
   "id": "a5103486",
   "metadata": {},
   "outputs": [],
   "source": [
    "# Random search of parameters, using 5 fold cross validation, \n",
    "# search across 100 different combinations\n",
    "# rf_random = RandomizedSearchCV(estimator = rf, param_distributions = random_grid,scoring='neg_mean_squared_error', n_iter = 10, cv = 5, verbose=2, random_state=42, n_jobs = 1)"
   ]
  },
  {
   "cell_type": "code",
   "execution_count": 108,
   "id": "f54378c7",
   "metadata": {},
   "outputs": [],
   "source": [
    "# rf_random.fit(X_train,y_train)"
   ]
  },
  {
   "cell_type": "code",
   "execution_count": 109,
   "id": "b84b51de",
   "metadata": {},
   "outputs": [
    {
     "data": {
      "text/plain": [
       "\"\\nOutput the best parameters we got after hypertuning:-\\n{'n_estimators': 1000,\\n 'min_samples_split': 2,\\n 'min_samples_leaf': 1,\\n 'max_features': 'sqrt',\\n 'max_depth': 25}\\n\""
      ]
     },
     "execution_count": 109,
     "metadata": {},
     "output_type": "execute_result"
    }
   ],
   "source": [
    "# rf_random.best_params_\n",
    "\n",
    "'''\n",
    "Output the best parameters we got after hypertuning:-\n",
    "{'n_estimators': 1000,\n",
    " 'min_samples_split': 2,\n",
    " 'min_samples_leaf': 1,\n",
    " 'max_features': 'sqrt',\n",
    " 'max_depth': 25}\n",
    "'''"
   ]
  },
  {
   "cell_type": "code",
   "execution_count": 110,
   "id": "8573f590",
   "metadata": {},
   "outputs": [],
   "source": [
    "# prediction = rf_random.predict(X_test)"
   ]
  },
  {
   "cell_type": "code",
   "execution_count": 111,
   "id": "4c2574e3",
   "metadata": {},
   "outputs": [],
   "source": [
    "# confusion_matrix(y_test, prediction)"
   ]
  },
  {
   "cell_type": "code",
   "execution_count": 112,
   "id": "924f0b2b",
   "metadata": {},
   "outputs": [],
   "source": [
    "# accuracy_score(y_test, prediction)"
   ]
  },
  {
   "cell_type": "code",
   "execution_count": 113,
   "id": "97edc588",
   "metadata": {},
   "outputs": [],
   "source": [
    "# f1_score(y_test, prediction)"
   ]
  },
  {
   "cell_type": "code",
   "execution_count": null,
   "id": "fb903da7",
   "metadata": {},
   "outputs": [],
   "source": []
  },
  {
   "cell_type": "markdown",
   "id": "21dc5224",
   "metadata": {},
   "source": [
    "# Creating model after Hypertuning\n",
    "- creating rf_random model using RandomForestClassifier after hypertuning\n",
    "- traning our model with X, y"
   ]
  },
  {
   "cell_type": "code",
   "execution_count": 114,
   "id": "0942e15d",
   "metadata": {},
   "outputs": [
    {
     "data": {
      "text/plain": [
       "RandomForestClassifier(max_depth=25, max_features='sqrt', n_estimators=1000)"
      ]
     },
     "execution_count": 114,
     "metadata": {},
     "output_type": "execute_result"
    }
   ],
   "source": [
    "rf_random = RandomForestClassifier(n_estimators=1000, min_samples_split=2, min_samples_leaf=1,\n",
    "                                      max_features='sqrt',max_depth=25)\n",
    "\n",
    "rf_random.fit(X_train, y_train) #traning the model using X_train and y_train"
   ]
  },
  {
   "cell_type": "code",
   "execution_count": 116,
   "id": "aac3f5e3",
   "metadata": {},
   "outputs": [],
   "source": [
    "y_preds = rf_random.predict(X_test)"
   ]
  },
  {
   "cell_type": "code",
   "execution_count": null,
   "id": "555615af",
   "metadata": {},
   "outputs": [],
   "source": []
  },
  {
   "cell_type": "markdown",
   "id": "0c849951",
   "metadata": {},
   "source": [
    "# Creating a pickle file"
   ]
  },
  {
   "cell_type": "code",
   "execution_count": 120,
   "id": "548468bf",
   "metadata": {},
   "outputs": [],
   "source": [
    "import pickle"
   ]
  },
  {
   "cell_type": "code",
   "execution_count": 121,
   "id": "b517685d",
   "metadata": {},
   "outputs": [],
   "source": [
    "pickle_out = open(\"return_prediction.pkl\", \"wb\")\n",
    "pickle.dump(rf_random, pickle_out)\n",
    "pickle_out.close()"
   ]
  },
  {
   "cell_type": "code",
   "execution_count": null,
   "id": "7fca7e9b",
   "metadata": {},
   "outputs": [],
   "source": []
  }
 ],
 "metadata": {
  "kernelspec": {
   "display_name": "Python 3 (ipykernel)",
   "language": "python",
   "name": "python3"
  },
  "language_info": {
   "codemirror_mode": {
    "name": "ipython",
    "version": 3
   },
   "file_extension": ".py",
   "mimetype": "text/x-python",
   "name": "python",
   "nbconvert_exporter": "python",
   "pygments_lexer": "ipython3",
   "version": "3.9.7"
  }
 },
 "nbformat": 4,
 "nbformat_minor": 5
}
